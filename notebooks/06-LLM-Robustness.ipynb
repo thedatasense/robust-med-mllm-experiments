{
  "nbformat": 4,
  "nbformat_minor": 0,
  "metadata": {
    "colab": {
      "provenance": [],
      "toc_visible": true,
      "include_colab_link": true
    },
    "kernelspec": {
      "display_name": "Python 3",
      "name": "python3"
    },
    "language_info": {
      "name": "python"
    },
    "accelerator": "GPU"
  },
  "cells": [
    {
      "cell_type": "markdown",
      "metadata": {
        "id": "view-in-github",
        "colab_type": "text"
      },
      "source": [
        "<a href=\"https://colab.research.google.com/github/thedatasense/llm-healthcare/blob/main/Appendix%20E%20%3A%20LLM%20Robustness%20NL_Augmenter.ipynb\" target=\"_parent\"><img src=\"https://colab.research.google.com/assets/colab-badge.svg\" alt=\"Open In Colab\"/></a>"
      ]
    },
    {
      "cell_type": "markdown",
      "metadata": {
        "id": "SMrWwwGdP4wO"
      },
      "source": [
        "Licensed under the Apache License, Version 2.0 (the \"License\");\n",
        "you may not use this file except in compliance with the License.\n",
        "You may obtain a copy of the License at\n",
        "\n",
        "     https://www.apache.org/licenses/LICENSE-2.0\n",
        "\n",
        "Unless required by applicable law or agreed to in writing, software\n",
        "distributed under the License is distributed on an \"AS IS\" BASIS,\n",
        "WITHOUT WARRANTIES OR CONDITIONS OF ANY KIND, either express or implied.\n",
        "\n",
        "\n",
        "See the License for the specific language governing permissions and\n",
        "limitations under the License."
      ]
    },
    {
      "cell_type": "markdown",
      "metadata": {
        "id": "n2QcAG8bThqq"
      },
      "source": [
        "# NL-Augmenter Colab example\n",
        "\n",
        "  * Play with an existing **transformation**\n",
        "    * Write your own **transformation**\n",
        "  * Play with an existing **filter**  \n",
        "    * Write your own **filter**         \n",
        "\n",
        "Total running time: ~10 min"
      ]
    },
    {
      "cell_type": "markdown",
      "metadata": {
        "id": "LI_4yHCIAvQx"
      },
      "source": [
        "## Install NL-Augmenter from GitHub\n",
        "\n"
      ]
    },
    {
      "cell_type": "code",
      "metadata": {
        "id": "qkv4WSJsI7YV",
        "colab": {
          "base_uri": "https://localhost:8080/"
        },
        "outputId": "6508327c-5d8e-4e29-e2cc-3d1238c34780"
      },
      "source": [
        "!git clone https://www.github.com/GEM-benchmark/NL-Augmenter"
      ],
      "execution_count": null,
      "outputs": [
        {
          "output_type": "stream",
          "name": "stdout",
          "text": [
            "Cloning into 'NL-Augmenter'...\n",
            "warning: redirecting to https://github.com/GEM-benchmark/NL-Augmenter.git/\n",
            "remote: Enumerating objects: 12875, done.\u001b[K\n",
            "remote: Counting objects: 100% (14/14), done.\u001b[K\n",
            "remote: Compressing objects: 100% (11/11), done.\u001b[K\n"
          ]
        }
      ]
    },
    {
      "cell_type": "code",
      "metadata": {
        "id": "E9KCH1qpHjDo"
      },
      "source": [
        "cd NL-Augmenter"
      ],
      "execution_count": null,
      "outputs": []
    },
    {
      "cell_type": "code",
      "metadata": {
        "id": "bMiID0kSE_Qf"
      },
      "source": [
        "!pip install -r requirements.txt --quiet\n",
        "!pip install https://github.com/explosion/spacy-models/releases/download/en_core_web_sm-3.0.0/en_core_web_sm-3.0.0.tar.gz"
      ],
      "execution_count": null,
      "outputs": []
    },
    {
      "cell_type": "markdown",
      "metadata": {
        "id": "MkdXQrzKR0zY"
      },
      "source": [
        "## Load modules"
      ]
    },
    {
      "cell_type": "code",
      "execution_count": null,
      "metadata": {
        "id": "wa2V1275euo0"
      },
      "outputs": [],
      "source": [
        "import nltk\n",
        "nltk.download('omw-1.4')"
      ]
    },
    {
      "cell_type": "code",
      "metadata": {
        "id": "nJcZGbR7JVFt"
      },
      "source": [
        "from nlaugmenter.transformations.butter_fingers_perturbation.transformation import ButterFingersPerturbation\n",
        "from nlaugmenter.transformations.change_person_named_entities.transformation import ChangePersonNamedEntities\n",
        "from nlaugmenter.transformations.replace_numerical_values.transformation import ReplaceNumericalValues\n",
        "from nlaugmenter.interfaces.SentenceOperation import SentenceOperation\n",
        "from nlaugmenter.interfaces.QuestionAnswerOperation import QuestionAnswerOperation\n",
        "from nlaugmenter.evaluation.evaluation_engine import evaluate, execute_model\n",
        "from nlaugmenter.tasks.TaskTypes import TaskType"
      ],
      "execution_count": null,
      "outputs": []
    },
    {
      "cell_type": "markdown",
      "metadata": {
        "id": "kT8V407QBFYz"
      },
      "source": [
        "## Play with some existing transformations"
      ]
    },
    {
      "cell_type": "code",
      "metadata": {
        "id": "MZfjp0toJdHh"
      },
      "source": [
        "t1 = ButterFingersPerturbation(max_outputs=3)\n",
        "t1.generate(\"Jason wants to move back to India by the end of next year.\")"
      ],
      "execution_count": null,
      "outputs": []
    },
    {
      "cell_type": "code",
      "metadata": {
        "id": "S_o9ktK9JwKs"
      },
      "source": [
        "t2 = ChangePersonNamedEntities(max_outputs=2)\n",
        "t2.generate(\"Jason wants to move back to India by the end of next year.\")"
      ],
      "execution_count": null,
      "outputs": []
    },
    {
      "cell_type": "code",
      "metadata": {
        "id": "v1khspY1AH_j"
      },
      "source": [
        "t3 = ReplaceNumericalValues(max_outputs=1)\n",
        "t3.generate(\"Jason's 3 sisters want to move back to India\")"
      ],
      "execution_count": null,
      "outputs": []
    },
    {
      "cell_type": "markdown",
      "metadata": {
        "id": "r2CB0LRbBWST"
      },
      "source": [
        "## Define a simple transformation\n",
        "Let's define a very basic transformation which just uppercases the sentence.\n",
        "\n",
        "This transformation could be used for many [tasks](https://github.com/GEM-benchmark/NL-Augmenter/blob/add_filters_for_contrast_sets/tasks/TaskTypes.py) including text classification and generation. So, we need to populate the `tasks` variable to `[TaskType.TEXT_CLASSIFICATION, TaskType.TEXT_TO_TEXT_GENERATION]`. That's it!"
      ]
    },
    {
      "cell_type": "code",
      "metadata": {
        "id": "BymdwQ3PJzg7"
      },
      "source": [
        "class MySimpleTransformation(SentenceOperation):\n",
        "  tasks = [TaskType.TEXT_CLASSIFICATION, TaskType.TEXT_TO_TEXT_GENERATION]\n",
        "  languages = [\"en\"]\n",
        "\n",
        "  def generate(self, sentence):\n",
        "    return [sentence.upper()]"
      ],
      "execution_count": null,
      "outputs": []
    },
    {
      "cell_type": "code",
      "metadata": {
        "id": "TkqtwqYlUWXV"
      },
      "source": [
        "my_transformation = MySimpleTransformation()"
      ],
      "execution_count": null,
      "outputs": []
    },
    {
      "cell_type": "code",
      "metadata": {
        "id": "rbbSJxJ8UbVz"
      },
      "source": [
        "my_transformation.generate(\"John was n't the person I had n't imagined.\")"
      ],
      "execution_count": null,
      "outputs": []
    },
    {
      "cell_type": "markdown",
      "metadata": {
        "id": "T8682Ql9GOP0"
      },
      "source": [
        "\n",
        "Obviously this can barely be called a transformation. What could this really achieve? Duh.\n",
        "So, let's quickly compare the performance of a trained text classifier on a common test set, and a test set with MySimpleTransformation applied (or also called as a pertubed set) with this one line of code. And you need to hold your breadth for around 5 minutes!  "
      ]
    },
    {
      "cell_type": "code",
      "metadata": {
        "id": "MJlW0WnrVU0n"
      },
      "source": [
        "execute_model(MySimpleTransformation, \"TEXT_CLASSIFICATION\", percentage_of_examples=1)"
      ],
      "execution_count": null,
      "outputs": []
    },
    {
      "cell_type": "markdown",
      "metadata": {
        "id": "3_NeVxa0RKWx"
      },
      "source": [
        "### 🕺 Voila! The accuracy on the perturbed set has fallen by 6% with this simple transformation!"
      ]
    },
    {
      "cell_type": "markdown",
      "metadata": {
        "id": "Q4qmvF6sQRWu"
      },
      "source": [
        "So what happened internally? --> `execute_model` depending on the transformation type [SentenceOperation](https://github.com/GEM-benchmark/NL-Augmenter/blob/main/interfaces/SentenceOperation.py)) and the task you provided (TEXT_CLASSIFICATION) evaluated a pre-trained model of HuggingFace. In this case, a sentiment analysis model [aychang/roberta-base-imdb](https://huggingface.co/aychang/roberta-base-imdb) was chosen and evaluated on 1% of the [IMDB dataset](https://huggingface.co/datasets/imdb) with and without the transformation to check if the sentiment is predicted correctly."
      ]
    },
    {
      "cell_type": "markdown",
      "metadata": {
        "id": "vmOP8B3-TW0i"
      },
      "source": [
        "If you want to evaluate this on your own model and dataset, you can pass the parameters as shown below in the `execute_model` method. Note that we obviously can't support each and every model type and dataset type and hence some models and datasets might require refactoring in the `evaluation_engine` class from your side and we are happy to help. 😊"
      ]
    },
    {
      "cell_type": "code",
      "metadata": {
        "id": "nKcUmvYzYKAJ"
      },
      "source": [
        "# Here are the different parameters which are used as defaults!\n",
        "# execute_model(MySimpleTransformation, \"TEXT_CLASSIFICATION\", \"en\", model_name = \"aychang/roberta-base-imdb\", dataset=\"imdb\", percentage_of_examples=1)"
      ],
      "execution_count": null,
      "outputs": []
    },
    {
      "cell_type": "markdown",
      "metadata": {
        "id": "BHuYXB6OWNiU"
      },
      "source": [
        "##  A Model Based Transformation\n",
        "We don't want to restrict ourselves with just string level changes! We want to do more, don't we? So, let's use a pre-trained paraphrase generator to transform question answering examples. There is an exisiting interface [QuestionAnswerOperation](https://github.com/GEM-benchmark/NL-Augmenter/blob/main/interfaces/QuestionAnswerOperation.py) which takes as input the context, the question and the answer as inputs. Let's use that to augment our training data for question answering!"
      ]
    },
    {
      "cell_type": "code",
      "metadata": {
        "id": "a3DehjWXYwnn"
      },
      "source": [
        "import torch\n",
        "from transformers import T5ForConditionalGeneration, AutoTokenizer\n",
        "\n",
        "\n",
        "class MySecondTransformation(QuestionAnswerOperation):\n",
        "  tasks = [TaskType.QUESTION_ANSWERING, TaskType.QUESTION_GENERATION]\n",
        "  languages = [\"en\"]\n",
        "\n",
        "  def __init__(self, max_outputs=5):\n",
        "    super().__init__()\n",
        "    model_name = \"prithivida/parrot_paraphraser_on_T5\"\n",
        "    self.tokenizer = AutoTokenizer.from_pretrained(model_name)\n",
        "    self.model = T5ForConditionalGeneration.from_pretrained(model_name)\n",
        "    self.max_outputs = max_outputs\n",
        "\n",
        "  def generate(self, context, question, answers):  # Note that the choice of inputs for 'generate' is consistent with those in QuestionAnswerOperation\n",
        "\n",
        "    # Let's call the HF model to generate a paraphrase for the question\n",
        "    paraphrase_input = question\n",
        "    batch = self.tokenizer([paraphrase_input], truncation=True, padding='longest', max_length=60, return_tensors=\"pt\")\n",
        "    translated = self.model.generate(**batch, max_length=60, num_beams=10, num_return_sequences=self.max_outputs, temperature=1.5)\n",
        "    paraphrased_questions = self.tokenizer.batch_decode(translated, skip_special_tokens=True)\n",
        "\n",
        "    # context = \"Apply your own logic here\"\n",
        "    # answers = \"And here too :)\"\n",
        "\n",
        "    # return the list of new question-answering examples\n",
        "    return [(context, paraphrase, answers) for paraphrase in paraphrased_questions]"
      ],
      "execution_count": null,
      "outputs": []
    },
    {
      "cell_type": "code",
      "metadata": {
        "id": "84G9YzdGblfP"
      },
      "source": [
        "t4 = MySecondTransformation()"
      ],
      "execution_count": null,
      "outputs": []
    },
    {
      "cell_type": "code",
      "metadata": {
        "id": "SFY0lGA2lIqy"
      },
      "source": [
        "t4.generate(context=\"Mumbai, Bengaluru, New Delhi are among the many famous places in India.\",\n",
        "            question=\"What are the famous places we should not miss in India?\",\n",
        "            answers=[\"Mumbai\", \"Bengaluru\", \"Delhi\", \"New Delhi\"])"
      ],
      "execution_count": null,
      "outputs": []
    },
    {
      "cell_type": "markdown",
      "metadata": {
        "id": "AOCoNfaV6F9l"
      },
      "source": [
        "Voila! Seems like you have created a new training example now for question-answering and question-generation! 🎉 🎊 🎉"
      ]
    },
    {
      "cell_type": "markdown",
      "metadata": {
        "id": "3WF-JtPd6wAm"
      },
      "source": [
        "#Now you are all ready to contribute a transformation to [NL-Augmenter 🦎 → 🐍](https://github.com/GEM-benchmark/NL-Augmenter)!"
      ]
    },
    {
      "cell_type": "markdown",
      "metadata": {
        "id": "c4e9Y57h0wh-"
      },
      "source": [
        "## What is this deal with filters?\n",
        "So, just the way transformations can transform examples of text, filters can identify whether an example follows some pattern of text! The only difference is that while transformations return another example of the same input format, filters return True or False!"
      ]
    },
    {
      "cell_type": "markdown",
      "metadata": {
        "id": "KDpDvOjv2Yx9"
      },
      "source": [
        "sentence --> SentenceOperation.**generate**(sentence) --> List of perturbed sentence\n",
        "\n",
        "sentence --> SentenceOperation.**filter**(sentence)  --> TRUE/FALSE"
      ]
    },
    {
      "cell_type": "markdown",
      "metadata": {
        "id": "ChHoHeq8CGXX"
      },
      "source": [
        "#So, let's play with some existing filters!\n"
      ]
    },
    {
      "cell_type": "code",
      "metadata": {
        "id": "WfUvpkSN0BKB"
      },
      "source": [
        "from nlaugmenter.filters.keywords import TextContainsKeywordsFilter\n",
        "from nlaugmenter.filters.length import TextLengthFilter, SentenceAndTargetLengthFilter"
      ],
      "execution_count": null,
      "outputs": []
    },
    {
      "cell_type": "markdown",
      "metadata": {
        "id": "Le0p5dsBDGA1"
      },
      "source": [
        "The `TextLengthFilter` accepts an input sentence if the length of the input sentence is within the initialised range. Let's initialise this filter to accept all sentences with length greater than 10 tokens!"
      ]
    },
    {
      "cell_type": "code",
      "metadata": {
        "id": "Bb2u3gsE0d_n"
      },
      "source": [
        "f1 = TextLengthFilter(\">\", 10)"
      ],
      "execution_count": null,
      "outputs": []
    },
    {
      "cell_type": "code",
      "metadata": {
        "id": "lK0xTRBsFCdQ"
      },
      "source": [
        "f1.filter(\"This sentence is long enough to pass while you think of implementing your own filter!\")"
      ],
      "execution_count": null,
      "outputs": []
    },
    {
      "cell_type": "code",
      "metadata": {
        "id": "diGI4EaOFSun"
      },
      "source": [
        "f1.filter(\"This one's too short!\")"
      ],
      "execution_count": null,
      "outputs": []
    },
    {
      "cell_type": "markdown",
      "metadata": {
        "id": "yZMYN4COFiY8"
      },
      "source": [
        "Let's say you have a lot of paraphrasing data and you intend to train a paraphrase generator to convert longer sentences to shorter ones! Check how the `SentenceAndTargetLengthFilter` can be used for this!\n"
      ]
    },
    {
      "cell_type": "code",
      "metadata": {
        "id": "H27VEe8pFYMl"
      },
      "source": [
        "f2 = SentenceAndTargetLengthFilter([\">\", \"<\"], [10,8])"
      ],
      "execution_count": null,
      "outputs": []
    },
    {
      "cell_type": "code",
      "metadata": {
        "id": "ql1ZSsyjG_Y7"
      },
      "source": [
        "f2.filter(\"That show is going to take place in front of immensely massive crowds.\",\n",
        "          \"Large crowds would attend the show.\")"
      ],
      "execution_count": null,
      "outputs": []
    },
    {
      "cell_type": "code",
      "metadata": {
        "id": "IKkFIgAtHsB-"
      },
      "source": [
        "f2.filter(\"The film was nominated for the Academy Award for Best Art Direction.\",\n",
        "          \"The movie was a nominee for the Academy Award for Best Art Direction.\")"
      ],
      "execution_count": null,
      "outputs": []
    },
    {
      "cell_type": "markdown",
      "metadata": {
        "id": "SAScGDfaJKa9"
      },
      "source": [
        "Okay, now that you've said to yourself that these filters are too basic, let's try to make a simple and interesting one!\n",
        "\n",
        "Let's define a filter which selects question-answer pairs which share a low lexical overlap between the question and the context!"
      ]
    },
    {
      "cell_type": "code",
      "metadata": {
        "id": "t7b1mg2ZJcsc"
      },
      "source": [
        "import spacy\n",
        "\n",
        "\n",
        "class LowLexicalOverlapFilter(QuestionAnswerOperation):\n",
        "  tasks = [TaskType.QUESTION_ANSWERING, TaskType.QUESTION_GENERATION]\n",
        "  languages = [\"en\"]\n",
        "\n",
        "  def __init__(self, threshold=3):\n",
        "    super().__init__()\n",
        "    self.nlp = spacy.load(\"en_core_web_sm\")\n",
        "    self.threshold = threshold\n",
        "\n",
        "  def filter(self, context, question, answers):\n",
        "    # Note that the only difference between a filter and a transformation is this method!\n",
        "    # The inputs remain the same!\n",
        "\n",
        "    question_tokenized = self.nlp(question, disable=[\"parser\", \"tagger\", \"ner\"])\n",
        "    context_tokenized = self.nlp(context, disable=[\"parser\", \"tagger\", \"ner\"])\n",
        "\n",
        "    q_tokens = set([t.text for t in question_tokenized])\n",
        "    c_tokens = set([t.text for t in context_tokenized])\n",
        "\n",
        "    low_lexical_overlap = len(q_tokens.intersection(c_tokens)) > self.threshold\n",
        "    return low_lexical_overlap"
      ],
      "execution_count": null,
      "outputs": []
    },
    {
      "cell_type": "code",
      "metadata": {
        "id": "KtKYvAr2MbSf"
      },
      "source": [
        "f3 = LowLexicalOverlapFilter()"
      ],
      "execution_count": null,
      "outputs": []
    },
    {
      "cell_type": "code",
      "metadata": {
        "id": "w1np6KirQGZc"
      },
      "source": [
        "f3.filter(\"New York, is the most populous city in the United States.\",\n",
        "          \"Which is the most populous city of the United States?\",\n",
        "          [\"New York\"])"
      ],
      "execution_count": null,
      "outputs": []
    },
    {
      "cell_type": "code",
      "metadata": {
        "id": "cbFOyYHUQVnk"
      },
      "source": [
        "f3.filter(\"New York, is the most populous city in the United States.\",\n",
        "          \"Which city has the largest population in the US?\",\n",
        "          [\"New York\"])"
      ],
      "execution_count": null,
      "outputs": []
    },
    {
      "cell_type": "markdown",
      "metadata": {
        "id": "kE0NY7NKRGfE"
      },
      "source": [
        "That's it!  So you have created a new filter which can separate the hard examples from the easy one! 🎉 🎊 🎉"
      ]
    },
    {
      "cell_type": "markdown",
      "metadata": {
        "id": "IKHd2QC_RkwB"
      },
      "source": [
        "#Now go ahead and contribute a nice filter to [NL-Augmenter 🦎 → 🐍](https://github.com/GEM-benchmark/NL-Augmenter)!"
      ]
    }
  ]
}
