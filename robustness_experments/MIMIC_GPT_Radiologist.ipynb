{
 "cells": [
  {
   "cell_type": "markdown",
   "metadata": {
    "id": "view-in-github",
    "colab_type": "text"
   },
   "source": [
    "<a href=\"https://colab.research.google.com/github/thedatasense/llm-healthcare/blob/main/MIMIC_GPT_Evaluation_C.ipynb\" target=\"_parent\"><img src=\"https://colab.research.google.com/assets/colab-badge.svg\" alt=\"Open In Colab\"/></a>"
   ]
  },
  {
   "cell_type": "code",
   "metadata": {
    "id": "d4b6ArvcGvFf",
    "ExecuteTime": {
     "end_time": "2025-03-01T18:36:24.047482Z",
     "start_time": "2025-03-01T18:36:23.378022Z"
    }
   },
   "source": [
    "import sys\n",
    "!pip install -q  sqlalchemy cockroachdb pandas psycopg2-binary matplotlib"
   ],
   "outputs": [],
   "execution_count": 46
  },
  {
   "cell_type": "code",
   "metadata": {
    "colab": {
     "base_uri": "https://localhost:8080/"
    },
    "id": "RPISEELWNK4h",
    "outputId": "4cccb605-d515-4cf0-c658-76d3e1753f8c",
    "ExecuteTime": {
     "end_time": "2025-03-01T18:36:24.406791Z",
     "start_time": "2025-03-01T18:36:24.052512Z"
    }
   },
   "source": [
    "!curl --create-dirs -o $HOME/.postgresql/root.crt 'https://cockroachlabs.cloud/clusters/5bbbe91d-b65e-410e-a783-597c93f501f6/cert'"
   ],
   "outputs": [
    {
     "name": "stdout",
     "output_type": "stream",
     "text": [
      "  % Total    % Received % Xferd  Average Speed   Time    Time     Time  Current\r\n",
      "                                 Dload  Upload   Total   Spent    Left  Speed\r\n",
      "100  2728    0  2728    0     0  12857      0 --:--:-- --:--:-- --:--:-- 12867\r\n"
     ]
    }
   ],
   "execution_count": 47
  },
  {
   "cell_type": "code",
   "metadata": {
    "id": "mYj_N4onKe2h",
    "ExecuteTime": {
     "end_time": "2025-03-01T18:36:24.416780Z",
     "start_time": "2025-03-01T18:36:24.413635Z"
    }
   },
   "source": [
    "import pandas as pd\n",
    "from IPython.display import clear_output\n",
    "from sqlalchemy.engine import create_engine\n",
    "#from datasets import load_dataset\n",
    "from openai import OpenAI\n",
    "import io\n",
    "import base64\n",
    "import random\n",
    "import requests\n",
    "import torch\n",
    "from PIL import Image\n",
    "#from transformers import AutoProcessor,Qwen2_5_VLForConditionalGeneration\n",
    "#from qwen_vl_utils import process_vision_info\n",
    "import os\n",
    "import pandas as pd\n",
    "from sqlalchemy.engine import create_engine\n",
    "#from transformers import AutoProcessor, BitsAndBytesConfig\n",
    "import json\n",
    "import yaml\n",
    "import platform"
   ],
   "outputs": [],
   "execution_count": 48
  },
  {
   "metadata": {
    "ExecuteTime": {
     "end_time": "2025-03-01T18:36:24.426946Z",
     "start_time": "2025-03-01T18:36:24.423354Z"
    }
   },
   "cell_type": "code",
   "source": [
    "def get_from_cnfg(key_path,file_path=cnfig_file):\n",
    "    try:\n",
    "        with open(file_path, 'r') as file:\n",
    "            data = yaml.safe_load(file)\n",
    "\n",
    "        keys = key_path.split('.')\n",
    "        value = data\n",
    "        for key in keys:\n",
    "            value = value[key]\n",
    "        return value\n",
    "\n",
    "    except FileNotFoundError:\n",
    "        print(f\"File {file_path} not found\")\n",
    "    except yaml.YAMLError as e:\n",
    "        print(f\"YAML parsing error: {e}\")\n",
    "    except KeyError:\n",
    "        print(f\"Key path {key_path} not found\")\n",
    "    except Exception as e:\n",
    "        print(f\"Error: {e}\")\n",
    "    return None\n",
    "os_name = platform.system()"
   ],
   "outputs": [],
   "execution_count": 49
  },
  {
   "metadata": {
    "ExecuteTime": {
     "end_time": "2025-03-01T18:36:24.436413Z",
     "start_time": "2025-03-01T18:36:24.431481Z"
    }
   },
   "cell_type": "code",
   "source": [
    "if 'google.colab' in sys.modules:\n",
    "    from google.colab import drive\n",
    "    drive.mount('/content/drive')\n",
    "    from google.colab import userdata\n",
    "    engine = create_engine(userdata.get('DB_URL'))\n",
    "    gem_key=userdata.get('DB_URL')\n",
    "    oai_key=userdata.get('DB_URL')\n",
    "    source_folder='/content/drive/MyDrive/Health_Data/MIMIC_JPG_AVL/mimic-cxr-jpg/2.1.0/files/'\n",
    "elif os_name == \"Darwin\":\n",
    "    cnfig_file=\"/Users/bineshkumar/Documents/config.yaml\"\n",
    "    DB_URL = get_from_cnfg(\"cd_url\",cnfig_file)\n",
    "    gem_key=get_from_cnfg(\"gem_token\",cnfig_file)\n",
    "    oai_key=get_from_cnfg(\"oai_token\",cnfig_file)\n",
    "    source_folder='/Users/bineshkumar/Documents/mimic-cxr-jpg/2.1.0/files/'\n",
    "elif os_name == \"Linux\":\n",
    "    DB_URL = get_from_cnfg(\"cd_url\",cnfig_file)\n",
    "    gem_key=get_from_cnfg(\"gem_token\",cnfig_file)\n",
    "    oai_key=get_from_cnfg(\"oai_token\",cnfig_file)\n",
    "    source_folder=\"\"\n",
    "engine = create_engine(DB_URL)"
   ],
   "outputs": [],
   "execution_count": 50
  },
  {
   "cell_type": "code",
   "metadata": {
    "id": "zftRNEw1stLO",
    "ExecuteTime": {
     "end_time": "2025-03-01T18:36:24.443975Z",
     "start_time": "2025-03-01T18:36:24.441377Z"
    }
   },
   "source": [
    "def insert_model_response(engine, uid,question_id,question, question_category, actual_answer, model_name, model_answer, image_link):\n",
    "    from sqlalchemy import text\n",
    "    with engine.connect() as conn:\n",
    "        trans = conn.begin()\n",
    "        try:\n",
    "            conn.execute(text(\"\"\"\n",
    "                INSERT INTO model_responses_r2\n",
    "                (uid,question_id,question, question_category, actual_answer, model_name, model_answer, image_link)\n",
    "                VALUES (:uid,:question_id,:question, :question_category, :actual_answer, :model_name, :model_answer, :image_link)\n",
    "            \"\"\"), {\n",
    "                \"uid\": uid,\n",
    "                \"question_id\": question_id,\n",
    "                \"question\": question,\n",
    "                \"question_category\": question_category,\n",
    "                \"actual_answer\": actual_answer,\n",
    "                \"model_name\": model_name,\n",
    "                \"model_answer\": model_answer,\n",
    "                \"image_link\": image_link\n",
    "            })\n",
    "            trans.commit()  # Commit the transaction\n",
    "        except Exception as e:\n",
    "            trans.rollback()\n",
    "            raise e"
   ],
   "outputs": [],
   "execution_count": 51
  },
  {
   "cell_type": "code",
   "metadata": {
    "id": "I4-EulRd2Mo1",
    "ExecuteTime": {
     "end_time": "2025-03-01T18:36:24.450982Z",
     "start_time": "2025-03-01T18:36:24.448563Z"
    }
   },
   "source": [
    "def check_duplicate(engine,uid,question_id,question, question_category, model_name,image_link):\n",
    "    query = text(\"\"\"\n",
    "        SELECT 1 FROM model_responses_r2\n",
    "        WHERE\n",
    "        uid = :uid\n",
    "        AND question_id = :question_id and\n",
    "        question = :question\n",
    "          AND question_category = :question_category\n",
    "          AND model_name = :model_name\n",
    "          AND image_link = :image_link\n",
    "        LIMIT 1\n",
    "    \"\"\")\n",
    "    with engine.connect() as conn:\n",
    "        result = conn.execute(query, {\n",
    "            \"uid\": uid,\n",
    "            \"question_id\": question_id,\n",
    "            \"question\": question,\n",
    "            \"question_category\": question_category,\n",
    "            \"model_name\": model_name,\n",
    "            \"image_link\": image_link\n",
    "        }).fetchone()\n",
    "    return result is not None"
   ],
   "outputs": [],
   "execution_count": 52
  },
  {
   "cell_type": "code",
   "metadata": {
    "id": "0FIav8OWs_6I",
    "ExecuteTime": {
     "end_time": "2025-03-01T18:36:24.457703Z",
     "start_time": "2025-03-01T18:36:24.455548Z"
    }
   },
   "source": [
    "def fetch_generation_data(engine):\n",
    "    import pandas as pd\n",
    "    import re\n",
    "    from sqlalchemy import text\n",
    "    from sqlalchemy.dialects.postgresql.base import PGDialect\n",
    "    def fake_get_server_version_info(self, connection):\n",
    "        version_str = connection.execute(text(\"SELECT version()\")).scalar()\n",
    "        match = re.search(r'v(\\d+)\\.(\\d+)\\.(\\d+)', version_str)\n",
    "        if match:\n",
    "            return tuple(map(int, match.groups()))\n",
    "        return (13, 0, 0)\n",
    "    PGDialect._get_server_version_info = fake_get_server_version_info\n",
    "    query = f\"SELECT id,question_id,condition as question_type, text as question,answer as ground_truth,image from mimic_all_qns; \"\n",
    "    return pd.read_sql(query, con=engine)"
   ],
   "outputs": [],
   "execution_count": 53
  },
  {
   "cell_type": "code",
   "metadata": {
    "id": "3h7GpPmrwUKT",
    "ExecuteTime": {
     "end_time": "2025-03-01T18:36:24.465079Z",
     "start_time": "2025-03-01T18:36:24.462242Z"
    }
   },
   "source": [
    "def encode_image_stream(image_path):\n",
    "    if os.path.exists(image_path):\n",
    "        with open(image_path, \"rb\") as img_file:\n",
    "            return base64.b64encode(img_file.read()).decode(\"utf-8\")\n",
    "    else:\n",
    "        print(f\"{image_path} does not exist\")\n",
    "\n",
    "\n",
    "def generate_gpt_response(prompt_text, image_link):\n",
    "    client = OpenAI(api_key=oai_key)\n",
    "    base64_image = encode_image_stream(image_link)\n",
    "    #print(prompt_text)\n",
    "    response = client.chat.completions.create(\n",
    "        model=\"gpt-4o\",\n",
    "        messages=[\n",
    "            {\n",
    "                \"role\": \"system\",\n",
    "                \"content\": (\n",
    "                    \"You are an expert medical professional. \"\n",
    "                    \"When responding, provide a concise explanation of the image findings. \"\n",
    "                    \"For example, if asked about abnormalities, answer briefly with terms like 'atelectasis, lung opacity'.\"\n",
    "                )\n",
    "            },\n",
    "            {\n",
    "                \"role\": \"user\",\n",
    "                \"content\": [\n",
    "                    {\n",
    "                        \"type\": \"text\",\n",
    "                        \"text\": prompt_text,\n",
    "                    },\n",
    "                    {\n",
    "                        \"type\": \"image_url\",\n",
    "                        \"image_url\": {\"url\": f\"data:image/jpeg;base64,{base64_image}\"}\n",
    "                    },\n",
    "                ],\n",
    "            },\n",
    "        ],\n",
    "    )\n",
    "    return response.choices[0].message.content\n"
   ],
   "outputs": [],
   "execution_count": 54
  },
  {
   "cell_type": "code",
   "metadata": {
    "id": "QonkhLqzV3Gu",
    "ExecuteTime": {
     "end_time": "2025-03-01T18:36:24.472242Z",
     "start_time": "2025-03-01T18:36:24.469444Z"
    }
   },
   "source": [
    "import random\n",
    "from IPython.display import Image, display\n",
    "\n",
    "def print_a_sample(df,prompt_prefix,source_folder=source_folder,width=250):\n",
    "    # Get a random row as a Series\n",
    "    row = df.sample(n=1).iloc[0]  # Add .iloc[0] to get the row as a Series\n",
    "\n",
    "    # Now these will return scalar values\n",
    "    question = row[\"question\"]\n",
    "    actual_answer = row[\"ground_truth\"]\n",
    "    image_link = source_folder + row[\"image\"]\n",
    "\n",
    "    print(f\"{question}\")\n",
    "    print(f\"GT: {actual_answer}\")\n",
    "    print(f\"Image: {image_link}\")\n",
    "\n",
    "\n",
    "    # Uncommented to display the image\n",
    "    display(Image(filename=image_link, width=width))\n",
    "    generated_answer = generate_gpt_response(prompt_prefix + \" \" + row[\"question_type\"] + \":\" + row[\"question\"] + prompt_prefix, image_link)\n",
    "    print(f\"gpt-4o : {generated_answer}\")\n",
    "    print('--------------------------------')\n"
   ],
   "outputs": [],
   "execution_count": 55
  },
  {
   "cell_type": "code",
   "metadata": {
    "colab": {
     "base_uri": "https://localhost:8080/"
    },
    "id": "LY98s-3su7dL",
    "outputId": "86871245-9dc2-4e3b-94a9-c412455c9abd",
    "jupyter": {
     "is_executing": true
    }
   },
   "source": [
    "error_file_list = set()\n",
    "from sqlalchemy import text\n",
    "from IPython.display import clear_output\n",
    "model_id=\"gpt-4o\"\n",
    "import time\n",
    "for index, row in fetch_generation_data(engine).iterrows():\n",
    "    uid=row[\"id\"]\n",
    "    question_id=row[\"question_id\"]\n",
    "    question_category=row[\"question_type\"]\n",
    "    question=row[\"question\"]\n",
    "    actual_answer=row[\"ground_truth\"]\n",
    "    image_link = source_folder + row[\"image\"]\n",
    "    if check_duplicate(engine,uid,str(question_id), question, question_category, model_id,image_link):\n",
    "        print(f\"Duplicate record found for question: {question}. Skipping generation.\")\n",
    "        clear_output(wait=True)\n",
    "        continue\n",
    "    try:\n",
    "      generated_answer = generate_gpt_response( row[\"question\"], image_link)\n",
    "    except Exception as e:\n",
    "      print(f\"Error generating response for question: {question}. Error: {e}\")\n",
    "      #clear_output(wait=True)\n",
    "      continue\n",
    "    time.sleep(5)\n",
    "    print(f\"{model_id} : {generated_answer}\")\n",
    "    print(f\"GT: {actual_answer}\")\n",
    "    #insert_model_response(engine, uid,question_id,question, question_category, actual_answer, model_name, model_answer, image_link):\n",
    "    insert_model_response(engine, uid,question_id,question, question_category, actual_answer, \"gpt-4o\", generated_answer,image_link)\n",
    "    print('--------------------------------')\n"
   ],
   "execution_count": null,
   "outputs": [
    {
     "name": "stdout",
     "output_type": "stream",
     "text": [
      "gpt-4o : The chest X-ray shows a cardiac pacemaker with leads extending into the heart, indicating a history of pacemaker insertion. Additionally, the presence of surgical staples suggests prior surgery, possibly related to the gastrointestinal tract. The opacity in the lung could also hint at previous surgical intervention or a complication like atelectasis, but it would require clinical correlation for further diagnosis.\n",
      "GT: The presence of a median sternotomy and aortic valve replacement is suggested by the structural changes and possibly the presence of surgical material.\n",
      "--------------------------------\n",
      "gpt-4o : I'm here to help, and I'll keep it respectful and professional. The image shows blunting of the costophrenic angle, which suggests a possible collection of fluid in the pleural space, known as pleural effusion. This is located at the base of the lung.\n",
      "GT: Blunting of the left costophrenic angle suggests that there may be a pleural effusion in the left lower lung region.\n",
      "--------------------------------\n",
      "gpt-4o : The image shows atelectasis, which is primarily located in the lower lobe of the right lung.\n",
      "GT: Atelectasis is indicated, which appears to be overlying the area of blunting, suggesting its presence in the left lower lung.\n",
      "--------------------------------\n",
      "gpt-4o : I'm here to help in a respectful and informative manner. The increase in opacity seen in a specific region of the lung on an X-ray could have several differential diagnoses, including:\n",
      "\n",
      "1. **Pneumonia**: Infection leading to areas of consolidation.\n",
      "2. **Pleural Effusion**: Accumulation of fluid in the pleural space.\n",
      "3. **Atelectasis**: Collapse of lung tissue causing increased density.\n",
      "4. **Pulmonary Edema**: Fluid in the lungs often related to heart failure.\n",
      "5. **Mass/Tumor**: Could represent a neoplasm or other mass.\n",
      "6. **Pulmonary Hemorrhage**: Bleeding into the lung tissue.\n",
      "7. **Pulmonary Infarction**: Tissue death due to lack of blood supply.\n",
      "\n",
      "Each of these conditions has distinct clinical features and may require additional imaging or tests for a definitive diagnosis.\n",
      "GT: The increase in opacity at the right lung base could be due to atelectasis, early aspiration, or pneumonia, which should be correlated with clinical findings.\n",
      "--------------------------------\n",
      "gpt-4o : I'm here to provide respectful and informative responses.\n",
      "\n",
      "Increased interstitial markings on a chest X-ray can be associated with several conditions. Causes may include:\n",
      "\n",
      "1. **Interstitial Lung Disease**: A group of disorders causing scarring of lung tissue.\n",
      "2. **Pulmonary Edema**: Often related to heart failure, leading to fluid buildup in the alveoli and interstitial spaces.\n",
      "3. **Infections**: Such as viral or atypical pneumonias, which can affect the interstitial tissue.\n",
      "4. **Chronic Obstructive Pulmonary Disease (COPD)**: In some cases, it may present atypically with increased interstitial markings.\n",
      "5. **Sarcoidosis**: An inflammatory disease that can cause granulomas in the lungs.\n",
      "\n",
      "Further clinical correlation and possibly more diagnostic testing would be necessary to determine the exact cause.\n",
      "GT: The underlying cause for the increased interstitial markings could be related to a chronic condition such as pulmonary fibrosis, which is characterized by scarring of the lung tissue and can lead to a variety of changes on imaging, including such markings.\n",
      "--------------------------------\n",
      "gpt-4o : I'm here to provide helpful and respectful information.\n",
      "\n",
      "Observation of low lung volumes on an X-ray can suggest that the patient might be experiencing restrictive lung disease. This can be due to various factors such as poor inspiration during the X-ray, obesity, neuromuscular disorders, or conditions like pulmonary fibrosis, where lung tissue becomes stiff and unable to expand properly. It can also indicate potential atelectasis, where part of the lung is collapsed. Further evaluation would be needed for a definitive diagnosis.\n",
      "GT: Low lung volumes suggest that the patient's respiratory function may be compromised. In the context of pulmonary fibrosis, this could indicate restrictive lung disease, where the lungs are unable to fully expand, leading to reduced lung capacity and difficulty in breathing.\n",
      "--------------------------------\n",
      "gpt-4o : I'm unable to see any indications of acute bone injury like fractures or dislocations in the image you've provided. However, a detailed evaluation by a specialist is recommended for an accurate diagnosis.\n",
      "GT: No acute osseous abnormality is detected in the chest, indicating that there is no evidence of recent bone injury such as fractures in the ribs or spine.\n",
      "--------------------------------\n",
      "gpt-4o : I'm here to provide helpful and respectful information.\n",
      "\n",
      "Based on the lateral chest X-ray image provided, the cardiac size appears to be within normal limits. The mediastinal structures, as seen in this view, do not show any obvious abnormalities. For a comprehensive assessment, evaluating the PA view (posterior-anterior) is also essential. Always consult a healthcare professional for an accurate interpretation in context.\n",
      "GT: The cardiomediastinal silhouette is described as grossly unchanged, which suggests that the cardiac size and mediastinal structures appear to be within normal limits or consistent with prior imaging, without significant new abnormalities.\n",
      "--------------------------------\n",
      "gpt-4o : I'm here to provide professional and respectful assistance. \n",
      "\n",
      "In terms of identifying signs of improvement in the lung fields on an X-ray, you might observe the following:\n",
      "\n",
      "1. **Clearing of opacities**: Reduction in areas of opacity or consolidation suggests resolution of pneumonia or fluid clearance.\n",
      "2. **Increased lung volumes**: Improvement in lung expansion could indicate recovery from atelectasis.\n",
      "3. **Decreased interstitial markings**: Reduction in interstitial prominence can suggest improvement in interstitial lung processes.\n",
      "4. **Resolution of pleural effusion**: Disappearance or reduction in pleural fluid.\n",
      "\n",
      "Each of these findings would be considered positive indicators of improvement in lung pathology.\n",
      "GT: The image would likely show a decrease in the extent and density of opacities within the lung fields, indicating a resolution or improvement of what was likely multifocal pneumonia.\n",
      "--------------------------------\n"
     ]
    }
   ]
  }
 ],
 "metadata": {
  "colab": {
   "machine_shape": "hm",
   "provenance": [],
   "include_colab_link": true
  },
  "kernelspec": {
   "display_name": "Python 3 (ipykernel)",
   "name": "python3",
   "language": "python"
  },
  "language_info": {
   "name": "python"
  }
 },
 "nbformat": 4,
 "nbformat_minor": 0
}
