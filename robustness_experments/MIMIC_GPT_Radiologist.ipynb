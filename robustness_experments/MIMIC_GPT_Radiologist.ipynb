{
 "cells": [
  {
   "cell_type": "markdown",
   "metadata": {
    "colab_type": "text",
    "id": "view-in-github"
   },
   "source": [
    "<a href=\"https://colab.research.google.com/github/thedatasense/llm-healthcare/blob/main/MIMIC_GPT_Evaluation_C.ipynb\" target=\"_parent\"><img src=\"https://colab.research.google.com/assets/colab-badge.svg\" alt=\"Open In Colab\"/></a>"
   ]
  },
  {
   "cell_type": "code",
   "metadata": {
    "id": "d4b6ArvcGvFf",
    "ExecuteTime": {
     "end_time": "2025-03-03T04:59:54.259393Z",
     "start_time": "2025-03-03T04:59:53.580616Z"
    }
   },
   "source": [
    "import sys\n",
    "!pip install -q  sqlalchemy cockroachdb pandas psycopg2-binary matplotlib"
   ],
   "outputs": [],
   "execution_count": 1
  },
  {
   "cell_type": "code",
   "metadata": {
    "colab": {
     "base_uri": "https://localhost:8080/"
    },
    "id": "RPISEELWNK4h",
    "outputId": "4cccb605-d515-4cf0-c658-76d3e1753f8c",
    "ExecuteTime": {
     "end_time": "2025-03-03T04:59:54.735925Z",
     "start_time": "2025-03-03T04:59:54.265383Z"
    }
   },
   "source": [
    "!curl --create-dirs -o $HOME/.postgresql/root.crt 'https://cockroachlabs.cloud/clusters/5bbbe91d-b65e-410e-a783-597c93f501f6/cert'"
   ],
   "outputs": [
    {
     "name": "stdout",
     "output_type": "stream",
     "text": [
      "  % Total    % Received % Xferd  Average Speed   Time    Time     Time  Current\r\n",
      "                                 Dload  Upload   Total   Spent    Left  Speed\r\n",
      "100  2728    0  2728    0     0   8404      0 --:--:-- --:--:-- --:--:--  8419\r\n"
     ]
    }
   ],
   "execution_count": 2
  },
  {
   "cell_type": "code",
   "metadata": {
    "id": "mYj_N4onKe2h",
    "ExecuteTime": {
     "end_time": "2025-03-03T04:59:56.512483Z",
     "start_time": "2025-03-03T04:59:54.799445Z"
    }
   },
   "source": [
    "import pandas as pd\n",
    "from IPython.display import clear_output\n",
    "from sqlalchemy.engine import create_engine\n",
    "#from datasets import load_dataset\n",
    "from openai import OpenAI\n",
    "import io\n",
    "import base64\n",
    "import random\n",
    "import requests\n",
    "import torch\n",
    "from PIL import Image\n",
    "#from transformers import AutoProcessor,Qwen2_5_VLForConditionalGeneration\n",
    "#from qwen_vl_utils import process_vision_info\n",
    "import os\n",
    "import pandas as pd\n",
    "from sqlalchemy.engine import create_engine\n",
    "#from transformers import AutoProcessor, BitsAndBytesConfig\n",
    "import json\n",
    "import yaml\n",
    "import platform\n",
    "from sqlalchemy import text\n",
    "from IPython.display import display,clear_output\n",
    "import time\n",
    "import json\n"
   ],
   "outputs": [],
   "execution_count": 3
  },
  {
   "cell_type": "code",
   "metadata": {
    "ExecuteTime": {
     "end_time": "2025-03-03T04:59:56.518102Z",
     "start_time": "2025-03-03T04:59:56.515276Z"
    }
   },
   "source": [
    "cnfig_file=\"/Users/bineshkumar/Documents/config.yaml\"\n",
    "def get_from_cnfg(key_path,file_path=cnfig_file):\n",
    "    try:\n",
    "        with open(file_path, 'r') as file:\n",
    "            data = yaml.safe_load(file)\n",
    "\n",
    "        keys = key_path.split('.')\n",
    "        value = data\n",
    "        for key in keys:\n",
    "            value = value[key]\n",
    "        return value\n",
    "\n",
    "    except FileNotFoundError:\n",
    "        print(f\"File {file_path} not found\")\n",
    "    except yaml.YAMLError as e:\n",
    "        print(f\"YAML parsing error: {e}\")\n",
    "    except KeyError:\n",
    "        print(f\"Key path {key_path} not found\")\n",
    "    except Exception as e:\n",
    "        print(f\"Error: {e}\")\n",
    "    return None\n",
    "os_name = platform.system()"
   ],
   "outputs": [],
   "execution_count": 4
  },
  {
   "cell_type": "code",
   "metadata": {
    "ExecuteTime": {
     "end_time": "2025-03-03T04:59:56.600390Z",
     "start_time": "2025-03-03T04:59:56.522393Z"
    }
   },
   "source": [
    "if 'google.colab' in sys.modules:\n",
    "    from google.colab import drive\n",
    "    drive.mount('/content/drive')\n",
    "    from google.colab import userdata\n",
    "    engine = create_engine(userdata.get('DB_URL'))\n",
    "    gem_key=userdata.get('DB_URL')\n",
    "    oai_key=userdata.get('DB_URL')\n",
    "    source_folder='/content/drive/MyDrive/Health_Data/MIMIC_JPG_AVL/mimic-cxr-jpg/2.1.0/files/'\n",
    "elif os_name == \"Darwin\":\n",
    "    cnfig_file=\"/Users/bineshkumar/Documents/config.yaml\"\n",
    "    DB_URL = get_from_cnfg(\"cd_url\",cnfig_file)\n",
    "    gem_key=get_from_cnfg(\"gem_token\",cnfig_file)\n",
    "    oai_key=get_from_cnfg(\"oai_token\",cnfig_file)\n",
    "    source_folder='/Users/bineshkumar/Documents/mimic-cxr-jpg/2.1.0/files/'\n",
    "elif os_name == \"Linux\":\n",
    "    DB_URL = get_from_cnfg(\"cd_url\",cnfig_file)\n",
    "    gem_key=get_from_cnfg(\"gem_token\",cnfig_file)\n",
    "    oai_key=get_from_cnfg(\"oai_token\",cnfig_file)\n",
    "    source_folder=\"\"\n",
    "engine = create_engine(DB_URL)"
   ],
   "outputs": [],
   "execution_count": 5
  },
  {
   "cell_type": "code",
   "metadata": {
    "id": "zftRNEw1stLO",
    "ExecuteTime": {
     "end_time": "2025-03-03T04:59:56.607255Z",
     "start_time": "2025-03-03T04:59:56.604737Z"
    }
   },
   "source": [
    "def insert_model_response(engine, uid,question_id,question, question_category, actual_answer, model_name, model_answer, image_link):\n",
    "    from sqlalchemy import text\n",
    "    with engine.connect() as conn:\n",
    "        trans = conn.begin()\n",
    "        try:\n",
    "            conn.execute(text(\"\"\"\n",
    "                INSERT INTO model_responses_r2\n",
    "                (uid,question_id,question, question_category, actual_answer, model_name, model_answer, image_link)\n",
    "                VALUES (:uid,:question_id,:question, :question_category, :actual_answer, :model_name, :model_answer, :image_link)\n",
    "            \"\"\"), {\n",
    "                \"uid\": uid,\n",
    "                \"question_id\": question_id,\n",
    "                \"question\": question,\n",
    "                \"question_category\": question_category,\n",
    "                \"actual_answer\": actual_answer,\n",
    "                \"model_name\": model_name,\n",
    "                \"model_answer\": model_answer,\n",
    "                \"image_link\": image_link\n",
    "            })\n",
    "            trans.commit()  # Commit the transaction\n",
    "        except Exception as e:\n",
    "            trans.rollback()\n",
    "            raise e"
   ],
   "outputs": [],
   "execution_count": 6
  },
  {
   "cell_type": "code",
   "metadata": {
    "id": "I4-EulRd2Mo1",
    "ExecuteTime": {
     "end_time": "2025-03-03T04:59:56.613239Z",
     "start_time": "2025-03-03T04:59:56.611227Z"
    }
   },
   "source": [
    "def check_duplicate(engine,uid,question_id,question, question_category, model_name,image_link):\n",
    "    query = text(\"\"\"\n",
    "        SELECT 1 FROM model_responses_r2\n",
    "        WHERE\n",
    "        uid = :uid\n",
    "        AND question_id = :question_id and\n",
    "        question = :question\n",
    "          AND question_category = :question_category\n",
    "          AND model_name = :model_name\n",
    "          AND image_link = :image_link\n",
    "        LIMIT 1\n",
    "    \"\"\")\n",
    "    with engine.connect() as conn:\n",
    "        result = conn.execute(query, {\n",
    "            \"uid\": uid,\n",
    "            \"question_id\": question_id,\n",
    "            \"question\": question,\n",
    "            \"question_category\": question_category,\n",
    "            \"model_name\": model_name,\n",
    "            \"image_link\": image_link\n",
    "        }).fetchone()\n",
    "    return result is not None"
   ],
   "outputs": [],
   "execution_count": 7
  },
  {
   "cell_type": "code",
   "metadata": {
    "id": "0FIav8OWs_6I",
    "ExecuteTime": {
     "end_time": "2025-03-03T04:59:56.619724Z",
     "start_time": "2025-03-03T04:59:56.617345Z"
    }
   },
   "source": [
    "def fetch_generation_data(engine):\n",
    "    import pandas as pd\n",
    "    import re\n",
    "    from sqlalchemy import text\n",
    "    from sqlalchemy.dialects.postgresql.base import PGDialect\n",
    "    def fake_get_server_version_info(self, connection):\n",
    "        version_str = connection.execute(text(\"SELECT version()\")).scalar()\n",
    "        match = re.search(r'v(\\d+)\\.(\\d+)\\.(\\d+)', version_str)\n",
    "        if match:\n",
    "            return tuple(map(int, match.groups()))\n",
    "        return (13, 0, 0)\n",
    "    PGDialect._get_server_version_info = fake_get_server_version_info\n",
    "    query = f\"SELECT id,question_id,condition as question_type, text as question,answer as ground_truth,image from mimic_all_qns; \"\n",
    "    return pd.read_sql(query, con=engine)"
   ],
   "outputs": [],
   "execution_count": 8
  },
  {
   "cell_type": "code",
   "metadata": {
    "id": "3h7GpPmrwUKT",
    "ExecuteTime": {
     "end_time": "2025-03-03T04:59:56.626719Z",
     "start_time": "2025-03-03T04:59:56.623670Z"
    }
   },
   "source": [
    "def encode_image_stream(image_path):\n",
    "    if os.path.exists(image_path):\n",
    "        with open(image_path, \"rb\") as img_file:\n",
    "            return base64.b64encode(img_file.read()).decode(\"utf-8\")\n",
    "    else:\n",
    "        return None\n",
    "\n",
    "def generate_gpt_response(prompt_text, image_link):\n",
    "    base64_image = encode_image_stream(image_link)\n",
    "    \n",
    "    if base64_image is None:\n",
    "        return None\n",
    "        \n",
    "    client = OpenAI(api_key=oai_key)\n",
    "    response = client.chat.completions.create(\n",
    "        model=\"gpt-4o\",\n",
    "        messages=[\n",
    "            {\n",
    "                \"role\": \"system\",\n",
    "                \"content\": (\n",
    "                    \"You are an expert medical professional. \"\n",
    "                    \"When responding, provide a concise explanation of the image findings. \"\n",
    "                    \"For example, if asked about abnormalities, answer briefly with terms like 'atelectasis, lung opacity'.\"\n",
    "                )\n",
    "            },\n",
    "            {\n",
    "                \"role\": \"user\",\n",
    "                \"content\": [\n",
    "                    {\n",
    "                        \"type\": \"text\",\n",
    "                        \"text\": prompt_text,\n",
    "                    },\n",
    "                    {\n",
    "                        \"type\": \"image_url\",\n",
    "                        \"image_url\": {\"url\": f\"data:image/jpeg;base64,{base64_image}\"}\n",
    "                    },\n",
    "                ],\n",
    "            },\n",
    "        ],\n",
    "    )\n",
    "    return response.choices[0].message.content\n",
    "\n",
    "def save_failed_images(failed_list, filename=\"failed_images_gpt4o.txt\"):\n",
    "    with open(filename, \"w\") as f:\n",
    "        for img in failed_list:\n",
    "            f.write(f\"{img}\\n\")"
   ],
   "outputs": [],
   "execution_count": 9
  },
  {
   "cell_type": "code",
   "metadata": {
    "id": "QonkhLqzV3Gu",
    "ExecuteTime": {
     "end_time": "2025-03-03T04:59:56.632873Z",
     "start_time": "2025-03-03T04:59:56.630572Z"
    }
   },
   "source": [
    "import random\n",
    "from IPython.display import Image, display\n",
    "\n",
    "def print_a_sample(df,prompt_prefix,source_folder=source_folder,width=250):\n",
    "    # Get a random row as a Series\n",
    "    row = df.sample(n=1).iloc[0]  # Add .iloc[0] to get the row as a Series\n",
    "\n",
    "    # Now these will return scalar values\n",
    "    question = row[\"question\"]\n",
    "    actual_answer = row[\"ground_truth\"]\n",
    "    image_link = source_folder + row[\"image\"]\n",
    "\n",
    "    print(f\"{question}\")\n",
    "    print(f\"GT: {actual_answer}\")\n",
    "    print(f\"Image: {image_link}\")\n",
    "\n",
    "\n",
    "    # Uncommented to display the image\n",
    "    display(Image(filename=image_link, width=width))\n",
    "    generated_answer = generate_gpt_response(prompt_prefix + \" \" + row[\"question_type\"] + \":\" + row[\"question\"] + prompt_prefix, image_link)\n",
    "    print(f\"gpt-4o : {generated_answer}\")\n",
    "    print('--------------------------------')\n"
   ],
   "outputs": [],
   "execution_count": 10
  },
  {
   "cell_type": "code",
   "metadata": {
    "colab": {
     "base_uri": "https://localhost:8080/"
    },
    "id": "LY98s-3su7dL",
    "outputId": "86871245-9dc2-4e3b-94a9-c412455c9abd"
   },
   "source": [
    "from IPython.display import clear_output\n",
    "model_id = \"gpt-4o\"\n",
    "failed_images = []\n",
    "\n",
    "for index, row in fetch_generation_data(engine).iterrows():\n",
    "    uid = row[\"id\"]\n",
    "    question_id = row[\"question_id\"]\n",
    "    question_category = row[\"question_type\"]\n",
    "    question = row[\"question\"]\n",
    "    actual_answer = row[\"ground_truth\"]\n",
    "    image_link = source_folder + row[\"image\"]\n",
    "    \n",
    "    if check_duplicate(engine, uid, str(question_id), question, question_category, model_id, image_link):\n",
    "        print(f\"Duplicate record found for question: {question}. Skipping generation.\")\n",
    "        clear_output(wait=True)\n",
    "        continue\n",
    "    \n",
    "    try:\n",
    "        generated_answer = generate_gpt_response(question, image_link)\n",
    "        \n",
    "        if generated_answer is None:\n",
    "            print(f\"Image not found: {image_link}\")\n",
    "            failed_images.append(image_link)\n",
    "            save_failed_images(failed_images)\n",
    "            continue\n",
    "            \n",
    "        print(f\"{model_id} : {generated_answer}\")\n",
    "        print(f\"GT: {actual_answer}\")\n",
    "        insert_model_response(engine, uid, question_id, question, question_category, actual_answer, model_id, generated_answer, image_link)\n",
    "    except Exception as e:\n",
    "        print(f\"Error generating response for question: {question}. Error: {e}\")\n",
    "        continue\n",
    "    \n",
    "    time.sleep(5)\n",
    "    print('--------------------------------')\n",
    "    clear_output(wait=True)\n",
    "\n",
    "save_failed_images(failed_images)"
   ],
   "execution_count": 11,
   "outputs": [
    {
     "name": "stdout",
     "output_type": "stream",
     "text": [
      "Error generating response for question: What prosthetic features might be identified on the chest X-ray image?. Error: (psycopg2.OperationalError) could not receive data from server: Operation timed out\n",
      "SSL SYSCALL error: Operation timed out\n",
      "\n",
      "[SQL: \n",
      "                INSERT INTO model_responses_r2\n",
      "                (uid,question_id,question, question_category, actual_answer, model_name, model_answer, image_link)\n",
      "                VALUES (%(uid)s,%(question_id)s,%(question)s, %(question_category)s, %(actual_answer)s, %(model_name)s, %(model_answer)s, %(image_link)s)\n",
      "            ]\n",
      "[parameters: {'uid': 'ffd60688-5da7c1d3-4229e284-c84ba788-c00f4302', 'question_id': 9653, 'question': 'What prosthetic features might be identified on the chest X-ray image?', 'question_category': 'original', 'actual_answer': 'The image may show structures consistent with aortic and tricuspid valve replacements, which could appear as circular or semi-circular opacities in the region of the heart valves.', 'model_name': 'gpt-4o', 'model_answer': 'The chest X-ray shows a prosthetic heart valve and sternal wires, likely from previous cardiac surgery such as a valve replacement and sternotomy closure.', 'image_link': '/Users/bineshkumar/Documents/mimic-cxr-jpg/2.1.0/files/p19/p19182863/s59041802/ffd60688-5da7c1d3-4229e284-c84ba788-c00f4302.jpg'}]\n",
      "(Background on this error at: https://sqlalche.me/e/20/e3q8)\n"
     ]
    },
    {
     "ename": "OperationalError",
     "evalue": "(psycopg2.OperationalError) could not translate host name \"uneven-dingo-4829.jxf.gcp-us-east1.cockroachlabs.cloud\" to address: nodename nor servname provided, or not known\n\n(Background on this error at: https://sqlalche.me/e/20/e3q8)",
     "output_type": "error",
     "traceback": [
      "\u001B[0;31m---------------------------------------------------------------------------\u001B[0m",
      "\u001B[0;31mOperationalError\u001B[0m                          Traceback (most recent call last)",
      "File \u001B[0;32m/opt/miniconda3/envs/explore/lib/python3.12/site-packages/sqlalchemy/engine/base.py:146\u001B[0m, in \u001B[0;36mConnection.__init__\u001B[0;34m(self, engine, connection, _has_events, _allow_revalidate, _allow_autobegin)\u001B[0m\n\u001B[1;32m    145\u001B[0m \u001B[38;5;28;01mtry\u001B[39;00m:\n\u001B[0;32m--> 146\u001B[0m     \u001B[38;5;28mself\u001B[39m\u001B[38;5;241m.\u001B[39m_dbapi_connection \u001B[38;5;241m=\u001B[39m \u001B[43mengine\u001B[49m\u001B[38;5;241;43m.\u001B[39;49m\u001B[43mraw_connection\u001B[49m\u001B[43m(\u001B[49m\u001B[43m)\u001B[49m\n\u001B[1;32m    147\u001B[0m \u001B[38;5;28;01mexcept\u001B[39;00m dialect\u001B[38;5;241m.\u001B[39mloaded_dbapi\u001B[38;5;241m.\u001B[39mError \u001B[38;5;28;01mas\u001B[39;00m err:\n",
      "File \u001B[0;32m/opt/miniconda3/envs/explore/lib/python3.12/site-packages/sqlalchemy/engine/base.py:3298\u001B[0m, in \u001B[0;36mEngine.raw_connection\u001B[0;34m(self)\u001B[0m\n\u001B[1;32m   3277\u001B[0m \u001B[38;5;250m\u001B[39m\u001B[38;5;124;03m\"\"\"Return a \"raw\" DBAPI connection from the connection pool.\u001B[39;00m\n\u001B[1;32m   3278\u001B[0m \n\u001B[1;32m   3279\u001B[0m \u001B[38;5;124;03mThe returned object is a proxied version of the DBAPI\u001B[39;00m\n\u001B[0;32m   (...)\u001B[0m\n\u001B[1;32m   3296\u001B[0m \n\u001B[1;32m   3297\u001B[0m \u001B[38;5;124;03m\"\"\"\u001B[39;00m\n\u001B[0;32m-> 3298\u001B[0m \u001B[38;5;28;01mreturn\u001B[39;00m \u001B[38;5;28;43mself\u001B[39;49m\u001B[38;5;241;43m.\u001B[39;49m\u001B[43mpool\u001B[49m\u001B[38;5;241;43m.\u001B[39;49m\u001B[43mconnect\u001B[49m\u001B[43m(\u001B[49m\u001B[43m)\u001B[49m\n",
      "File \u001B[0;32m/opt/miniconda3/envs/explore/lib/python3.12/site-packages/sqlalchemy/pool/base.py:449\u001B[0m, in \u001B[0;36mPool.connect\u001B[0;34m(self)\u001B[0m\n\u001B[1;32m    442\u001B[0m \u001B[38;5;250m\u001B[39m\u001B[38;5;124;03m\"\"\"Return a DBAPI connection from the pool.\u001B[39;00m\n\u001B[1;32m    443\u001B[0m \n\u001B[1;32m    444\u001B[0m \u001B[38;5;124;03mThe connection is instrumented such that when its\u001B[39;00m\n\u001B[0;32m   (...)\u001B[0m\n\u001B[1;32m    447\u001B[0m \n\u001B[1;32m    448\u001B[0m \u001B[38;5;124;03m\"\"\"\u001B[39;00m\n\u001B[0;32m--> 449\u001B[0m \u001B[38;5;28;01mreturn\u001B[39;00m \u001B[43m_ConnectionFairy\u001B[49m\u001B[38;5;241;43m.\u001B[39;49m\u001B[43m_checkout\u001B[49m\u001B[43m(\u001B[49m\u001B[38;5;28;43mself\u001B[39;49m\u001B[43m)\u001B[49m\n",
      "File \u001B[0;32m/opt/miniconda3/envs/explore/lib/python3.12/site-packages/sqlalchemy/pool/base.py:1263\u001B[0m, in \u001B[0;36m_ConnectionFairy._checkout\u001B[0;34m(cls, pool, threadconns, fairy)\u001B[0m\n\u001B[1;32m   1262\u001B[0m \u001B[38;5;28;01mif\u001B[39;00m \u001B[38;5;129;01mnot\u001B[39;00m fairy:\n\u001B[0;32m-> 1263\u001B[0m     fairy \u001B[38;5;241m=\u001B[39m \u001B[43m_ConnectionRecord\u001B[49m\u001B[38;5;241;43m.\u001B[39;49m\u001B[43mcheckout\u001B[49m\u001B[43m(\u001B[49m\u001B[43mpool\u001B[49m\u001B[43m)\u001B[49m\n\u001B[1;32m   1265\u001B[0m     \u001B[38;5;28;01mif\u001B[39;00m threadconns \u001B[38;5;129;01mis\u001B[39;00m \u001B[38;5;129;01mnot\u001B[39;00m \u001B[38;5;28;01mNone\u001B[39;00m:\n",
      "File \u001B[0;32m/opt/miniconda3/envs/explore/lib/python3.12/site-packages/sqlalchemy/pool/base.py:717\u001B[0m, in \u001B[0;36m_ConnectionRecord.checkout\u001B[0;34m(cls, pool)\u001B[0m\n\u001B[1;32m    716\u001B[0m \u001B[38;5;28;01mexcept\u001B[39;00m \u001B[38;5;167;01mBaseException\u001B[39;00m \u001B[38;5;28;01mas\u001B[39;00m err:\n\u001B[0;32m--> 717\u001B[0m \u001B[43m    \u001B[49m\u001B[38;5;28;43;01mwith\u001B[39;49;00m\u001B[43m \u001B[49m\u001B[43mutil\u001B[49m\u001B[38;5;241;43m.\u001B[39;49m\u001B[43msafe_reraise\u001B[49m\u001B[43m(\u001B[49m\u001B[43m)\u001B[49m\u001B[43m:\u001B[49m\n\u001B[1;32m    718\u001B[0m \u001B[43m        \u001B[49m\u001B[43mrec\u001B[49m\u001B[38;5;241;43m.\u001B[39;49m\u001B[43m_checkin_failed\u001B[49m\u001B[43m(\u001B[49m\u001B[43merr\u001B[49m\u001B[43m,\u001B[49m\u001B[43m \u001B[49m\u001B[43m_fairy_was_created\u001B[49m\u001B[38;5;241;43m=\u001B[39;49m\u001B[38;5;28;43;01mFalse\u001B[39;49;00m\u001B[43m)\u001B[49m\n",
      "File \u001B[0;32m/opt/miniconda3/envs/explore/lib/python3.12/site-packages/sqlalchemy/util/langhelpers.py:146\u001B[0m, in \u001B[0;36msafe_reraise.__exit__\u001B[0;34m(self, type_, value, traceback)\u001B[0m\n\u001B[1;32m    145\u001B[0m     \u001B[38;5;28mself\u001B[39m\u001B[38;5;241m.\u001B[39m_exc_info \u001B[38;5;241m=\u001B[39m \u001B[38;5;28;01mNone\u001B[39;00m  \u001B[38;5;66;03m# remove potential circular references\u001B[39;00m\n\u001B[0;32m--> 146\u001B[0m     \u001B[38;5;28;01mraise\u001B[39;00m exc_value\u001B[38;5;241m.\u001B[39mwith_traceback(exc_tb)\n\u001B[1;32m    147\u001B[0m \u001B[38;5;28;01melse\u001B[39;00m:\n",
      "File \u001B[0;32m/opt/miniconda3/envs/explore/lib/python3.12/site-packages/sqlalchemy/pool/base.py:715\u001B[0m, in \u001B[0;36m_ConnectionRecord.checkout\u001B[0;34m(cls, pool)\u001B[0m\n\u001B[1;32m    714\u001B[0m \u001B[38;5;28;01mtry\u001B[39;00m:\n\u001B[0;32m--> 715\u001B[0m     dbapi_connection \u001B[38;5;241m=\u001B[39m \u001B[43mrec\u001B[49m\u001B[38;5;241;43m.\u001B[39;49m\u001B[43mget_connection\u001B[49m\u001B[43m(\u001B[49m\u001B[43m)\u001B[49m\n\u001B[1;32m    716\u001B[0m \u001B[38;5;28;01mexcept\u001B[39;00m \u001B[38;5;167;01mBaseException\u001B[39;00m \u001B[38;5;28;01mas\u001B[39;00m err:\n",
      "File \u001B[0;32m/opt/miniconda3/envs/explore/lib/python3.12/site-packages/sqlalchemy/pool/base.py:837\u001B[0m, in \u001B[0;36m_ConnectionRecord.get_connection\u001B[0;34m(self)\u001B[0m\n\u001B[1;32m    836\u001B[0m     \u001B[38;5;28mself\u001B[39m\u001B[38;5;241m.\u001B[39minfo\u001B[38;5;241m.\u001B[39mclear()\n\u001B[0;32m--> 837\u001B[0m     \u001B[38;5;28;43mself\u001B[39;49m\u001B[38;5;241;43m.\u001B[39;49m\u001B[43m__connect\u001B[49m\u001B[43m(\u001B[49m\u001B[43m)\u001B[49m\n\u001B[1;32m    838\u001B[0m \u001B[38;5;28;01melif\u001B[39;00m (\n\u001B[1;32m    839\u001B[0m     \u001B[38;5;28mself\u001B[39m\u001B[38;5;241m.\u001B[39m__pool\u001B[38;5;241m.\u001B[39m_recycle \u001B[38;5;241m>\u001B[39m \u001B[38;5;241m-\u001B[39m\u001B[38;5;241m1\u001B[39m\n\u001B[1;32m    840\u001B[0m     \u001B[38;5;129;01mand\u001B[39;00m time\u001B[38;5;241m.\u001B[39mtime() \u001B[38;5;241m-\u001B[39m \u001B[38;5;28mself\u001B[39m\u001B[38;5;241m.\u001B[39mstarttime \u001B[38;5;241m>\u001B[39m \u001B[38;5;28mself\u001B[39m\u001B[38;5;241m.\u001B[39m__pool\u001B[38;5;241m.\u001B[39m_recycle\n\u001B[1;32m    841\u001B[0m ):\n",
      "File \u001B[0;32m/opt/miniconda3/envs/explore/lib/python3.12/site-packages/sqlalchemy/pool/base.py:900\u001B[0m, in \u001B[0;36m_ConnectionRecord.__connect\u001B[0;34m(self)\u001B[0m\n\u001B[1;32m    899\u001B[0m \u001B[38;5;28;01mexcept\u001B[39;00m \u001B[38;5;167;01mBaseException\u001B[39;00m \u001B[38;5;28;01mas\u001B[39;00m e:\n\u001B[0;32m--> 900\u001B[0m \u001B[43m    \u001B[49m\u001B[38;5;28;43;01mwith\u001B[39;49;00m\u001B[43m \u001B[49m\u001B[43mutil\u001B[49m\u001B[38;5;241;43m.\u001B[39;49m\u001B[43msafe_reraise\u001B[49m\u001B[43m(\u001B[49m\u001B[43m)\u001B[49m\u001B[43m:\u001B[49m\n\u001B[1;32m    901\u001B[0m \u001B[43m        \u001B[49m\u001B[43mpool\u001B[49m\u001B[38;5;241;43m.\u001B[39;49m\u001B[43mlogger\u001B[49m\u001B[38;5;241;43m.\u001B[39;49m\u001B[43mdebug\u001B[49m\u001B[43m(\u001B[49m\u001B[38;5;124;43m\"\u001B[39;49m\u001B[38;5;124;43mError on connect(): \u001B[39;49m\u001B[38;5;132;43;01m%s\u001B[39;49;00m\u001B[38;5;124;43m\"\u001B[39;49m\u001B[43m,\u001B[49m\u001B[43m \u001B[49m\u001B[43me\u001B[49m\u001B[43m)\u001B[49m\n",
      "File \u001B[0;32m/opt/miniconda3/envs/explore/lib/python3.12/site-packages/sqlalchemy/util/langhelpers.py:146\u001B[0m, in \u001B[0;36msafe_reraise.__exit__\u001B[0;34m(self, type_, value, traceback)\u001B[0m\n\u001B[1;32m    145\u001B[0m     \u001B[38;5;28mself\u001B[39m\u001B[38;5;241m.\u001B[39m_exc_info \u001B[38;5;241m=\u001B[39m \u001B[38;5;28;01mNone\u001B[39;00m  \u001B[38;5;66;03m# remove potential circular references\u001B[39;00m\n\u001B[0;32m--> 146\u001B[0m     \u001B[38;5;28;01mraise\u001B[39;00m exc_value\u001B[38;5;241m.\u001B[39mwith_traceback(exc_tb)\n\u001B[1;32m    147\u001B[0m \u001B[38;5;28;01melse\u001B[39;00m:\n",
      "File \u001B[0;32m/opt/miniconda3/envs/explore/lib/python3.12/site-packages/sqlalchemy/pool/base.py:896\u001B[0m, in \u001B[0;36m_ConnectionRecord.__connect\u001B[0;34m(self)\u001B[0m\n\u001B[1;32m    895\u001B[0m \u001B[38;5;28mself\u001B[39m\u001B[38;5;241m.\u001B[39mstarttime \u001B[38;5;241m=\u001B[39m time\u001B[38;5;241m.\u001B[39mtime()\n\u001B[0;32m--> 896\u001B[0m \u001B[38;5;28mself\u001B[39m\u001B[38;5;241m.\u001B[39mdbapi_connection \u001B[38;5;241m=\u001B[39m connection \u001B[38;5;241m=\u001B[39m \u001B[43mpool\u001B[49m\u001B[38;5;241;43m.\u001B[39;49m\u001B[43m_invoke_creator\u001B[49m\u001B[43m(\u001B[49m\u001B[38;5;28;43mself\u001B[39;49m\u001B[43m)\u001B[49m\n\u001B[1;32m    897\u001B[0m pool\u001B[38;5;241m.\u001B[39mlogger\u001B[38;5;241m.\u001B[39mdebug(\u001B[38;5;124m\"\u001B[39m\u001B[38;5;124mCreated new connection \u001B[39m\u001B[38;5;132;01m%r\u001B[39;00m\u001B[38;5;124m\"\u001B[39m, connection)\n",
      "File \u001B[0;32m/opt/miniconda3/envs/explore/lib/python3.12/site-packages/sqlalchemy/engine/create.py:646\u001B[0m, in \u001B[0;36mcreate_engine.<locals>.connect\u001B[0;34m(connection_record)\u001B[0m\n\u001B[1;32m    644\u001B[0m             \u001B[38;5;28;01mreturn\u001B[39;00m connection\n\u001B[0;32m--> 646\u001B[0m \u001B[38;5;28;01mreturn\u001B[39;00m \u001B[43mdialect\u001B[49m\u001B[38;5;241;43m.\u001B[39;49m\u001B[43mconnect\u001B[49m\u001B[43m(\u001B[49m\u001B[38;5;241;43m*\u001B[39;49m\u001B[43mcargs\u001B[49m\u001B[43m,\u001B[49m\u001B[43m \u001B[49m\u001B[38;5;241;43m*\u001B[39;49m\u001B[38;5;241;43m*\u001B[39;49m\u001B[43mcparams\u001B[49m\u001B[43m)\u001B[49m\n",
      "File \u001B[0;32m/opt/miniconda3/envs/explore/lib/python3.12/site-packages/sqlalchemy/engine/default.py:622\u001B[0m, in \u001B[0;36mDefaultDialect.connect\u001B[0;34m(self, *cargs, **cparams)\u001B[0m\n\u001B[1;32m    620\u001B[0m \u001B[38;5;28;01mdef\u001B[39;00m \u001B[38;5;21mconnect\u001B[39m(\u001B[38;5;28mself\u001B[39m, \u001B[38;5;241m*\u001B[39mcargs, \u001B[38;5;241m*\u001B[39m\u001B[38;5;241m*\u001B[39mcparams):\n\u001B[1;32m    621\u001B[0m     \u001B[38;5;66;03m# inherits the docstring from interfaces.Dialect.connect\u001B[39;00m\n\u001B[0;32m--> 622\u001B[0m     \u001B[38;5;28;01mreturn\u001B[39;00m \u001B[38;5;28;43mself\u001B[39;49m\u001B[38;5;241;43m.\u001B[39;49m\u001B[43mloaded_dbapi\u001B[49m\u001B[38;5;241;43m.\u001B[39;49m\u001B[43mconnect\u001B[49m\u001B[43m(\u001B[49m\u001B[38;5;241;43m*\u001B[39;49m\u001B[43mcargs\u001B[49m\u001B[43m,\u001B[49m\u001B[43m \u001B[49m\u001B[38;5;241;43m*\u001B[39;49m\u001B[38;5;241;43m*\u001B[39;49m\u001B[43mcparams\u001B[49m\u001B[43m)\u001B[49m\n",
      "File \u001B[0;32m/opt/miniconda3/envs/explore/lib/python3.12/site-packages/psycopg2/__init__.py:122\u001B[0m, in \u001B[0;36mconnect\u001B[0;34m(dsn, connection_factory, cursor_factory, **kwargs)\u001B[0m\n\u001B[1;32m    121\u001B[0m dsn \u001B[38;5;241m=\u001B[39m _ext\u001B[38;5;241m.\u001B[39mmake_dsn(dsn, \u001B[38;5;241m*\u001B[39m\u001B[38;5;241m*\u001B[39mkwargs)\n\u001B[0;32m--> 122\u001B[0m conn \u001B[38;5;241m=\u001B[39m \u001B[43m_connect\u001B[49m\u001B[43m(\u001B[49m\u001B[43mdsn\u001B[49m\u001B[43m,\u001B[49m\u001B[43m \u001B[49m\u001B[43mconnection_factory\u001B[49m\u001B[38;5;241;43m=\u001B[39;49m\u001B[43mconnection_factory\u001B[49m\u001B[43m,\u001B[49m\u001B[43m \u001B[49m\u001B[38;5;241;43m*\u001B[39;49m\u001B[38;5;241;43m*\u001B[39;49m\u001B[43mkwasync\u001B[49m\u001B[43m)\u001B[49m\n\u001B[1;32m    123\u001B[0m \u001B[38;5;28;01mif\u001B[39;00m cursor_factory \u001B[38;5;129;01mis\u001B[39;00m \u001B[38;5;129;01mnot\u001B[39;00m \u001B[38;5;28;01mNone\u001B[39;00m:\n",
      "\u001B[0;31mOperationalError\u001B[0m: could not translate host name \"uneven-dingo-4829.jxf.gcp-us-east1.cockroachlabs.cloud\" to address: nodename nor servname provided, or not known\n",
      "\nThe above exception was the direct cause of the following exception:\n",
      "\u001B[0;31mOperationalError\u001B[0m                          Traceback (most recent call last)",
      "Cell \u001B[0;32mIn[11], line 13\u001B[0m\n\u001B[1;32m     10\u001B[0m actual_answer \u001B[38;5;241m=\u001B[39m row[\u001B[38;5;124m\"\u001B[39m\u001B[38;5;124mground_truth\u001B[39m\u001B[38;5;124m\"\u001B[39m]\n\u001B[1;32m     11\u001B[0m image_link \u001B[38;5;241m=\u001B[39m source_folder \u001B[38;5;241m+\u001B[39m row[\u001B[38;5;124m\"\u001B[39m\u001B[38;5;124mimage\u001B[39m\u001B[38;5;124m\"\u001B[39m]\n\u001B[0;32m---> 13\u001B[0m \u001B[38;5;28;01mif\u001B[39;00m \u001B[43mcheck_duplicate\u001B[49m\u001B[43m(\u001B[49m\u001B[43mengine\u001B[49m\u001B[43m,\u001B[49m\u001B[43m \u001B[49m\u001B[43muid\u001B[49m\u001B[43m,\u001B[49m\u001B[43m \u001B[49m\u001B[38;5;28;43mstr\u001B[39;49m\u001B[43m(\u001B[49m\u001B[43mquestion_id\u001B[49m\u001B[43m)\u001B[49m\u001B[43m,\u001B[49m\u001B[43m \u001B[49m\u001B[43mquestion\u001B[49m\u001B[43m,\u001B[49m\u001B[43m \u001B[49m\u001B[43mquestion_category\u001B[49m\u001B[43m,\u001B[49m\u001B[43m \u001B[49m\u001B[43mmodel_id\u001B[49m\u001B[43m,\u001B[49m\u001B[43m \u001B[49m\u001B[43mimage_link\u001B[49m\u001B[43m)\u001B[49m:\n\u001B[1;32m     14\u001B[0m     \u001B[38;5;28mprint\u001B[39m(\u001B[38;5;124mf\u001B[39m\u001B[38;5;124m\"\u001B[39m\u001B[38;5;124mDuplicate record found for question: \u001B[39m\u001B[38;5;132;01m{\u001B[39;00mquestion\u001B[38;5;132;01m}\u001B[39;00m\u001B[38;5;124m. Skipping generation.\u001B[39m\u001B[38;5;124m\"\u001B[39m)\n\u001B[1;32m     15\u001B[0m     clear_output(wait\u001B[38;5;241m=\u001B[39m\u001B[38;5;28;01mTrue\u001B[39;00m)\n",
      "Cell \u001B[0;32mIn[7], line 13\u001B[0m, in \u001B[0;36mcheck_duplicate\u001B[0;34m(engine, uid, question_id, question, question_category, model_name, image_link)\u001B[0m\n\u001B[1;32m      1\u001B[0m \u001B[38;5;28;01mdef\u001B[39;00m \u001B[38;5;21mcheck_duplicate\u001B[39m(engine,uid,question_id,question, question_category, model_name,image_link):\n\u001B[1;32m      2\u001B[0m     query \u001B[38;5;241m=\u001B[39m text(\u001B[38;5;124m\"\"\"\u001B[39m\n\u001B[1;32m      3\u001B[0m \u001B[38;5;124m        SELECT 1 FROM model_responses_r2\u001B[39m\n\u001B[1;32m      4\u001B[0m \u001B[38;5;124m        WHERE\u001B[39m\n\u001B[0;32m   (...)\u001B[0m\n\u001B[1;32m     11\u001B[0m \u001B[38;5;124m        LIMIT 1\u001B[39m\n\u001B[1;32m     12\u001B[0m \u001B[38;5;124m    \u001B[39m\u001B[38;5;124m\"\"\"\u001B[39m)\n\u001B[0;32m---> 13\u001B[0m     \u001B[38;5;28;01mwith\u001B[39;00m \u001B[43mengine\u001B[49m\u001B[38;5;241;43m.\u001B[39;49m\u001B[43mconnect\u001B[49m\u001B[43m(\u001B[49m\u001B[43m)\u001B[49m \u001B[38;5;28;01mas\u001B[39;00m conn:\n\u001B[1;32m     14\u001B[0m         result \u001B[38;5;241m=\u001B[39m conn\u001B[38;5;241m.\u001B[39mexecute(query, {\n\u001B[1;32m     15\u001B[0m             \u001B[38;5;124m\"\u001B[39m\u001B[38;5;124muid\u001B[39m\u001B[38;5;124m\"\u001B[39m: uid,\n\u001B[1;32m     16\u001B[0m             \u001B[38;5;124m\"\u001B[39m\u001B[38;5;124mquestion_id\u001B[39m\u001B[38;5;124m\"\u001B[39m: question_id,\n\u001B[0;32m   (...)\u001B[0m\n\u001B[1;32m     20\u001B[0m             \u001B[38;5;124m\"\u001B[39m\u001B[38;5;124mimage_link\u001B[39m\u001B[38;5;124m\"\u001B[39m: image_link\n\u001B[1;32m     21\u001B[0m         })\u001B[38;5;241m.\u001B[39mfetchone()\n\u001B[1;32m     22\u001B[0m     \u001B[38;5;28;01mreturn\u001B[39;00m result \u001B[38;5;129;01mis\u001B[39;00m \u001B[38;5;129;01mnot\u001B[39;00m \u001B[38;5;28;01mNone\u001B[39;00m\n",
      "File \u001B[0;32m/opt/miniconda3/envs/explore/lib/python3.12/site-packages/sqlalchemy/engine/base.py:3274\u001B[0m, in \u001B[0;36mEngine.connect\u001B[0;34m(self)\u001B[0m\n\u001B[1;32m   3251\u001B[0m \u001B[38;5;28;01mdef\u001B[39;00m \u001B[38;5;21mconnect\u001B[39m(\u001B[38;5;28mself\u001B[39m) \u001B[38;5;241m-\u001B[39m\u001B[38;5;241m>\u001B[39m Connection:\n\u001B[1;32m   3252\u001B[0m \u001B[38;5;250m    \u001B[39m\u001B[38;5;124;03m\"\"\"Return a new :class:`_engine.Connection` object.\u001B[39;00m\n\u001B[1;32m   3253\u001B[0m \n\u001B[1;32m   3254\u001B[0m \u001B[38;5;124;03m    The :class:`_engine.Connection` acts as a Python context manager, so\u001B[39;00m\n\u001B[0;32m   (...)\u001B[0m\n\u001B[1;32m   3271\u001B[0m \n\u001B[1;32m   3272\u001B[0m \u001B[38;5;124;03m    \"\"\"\u001B[39;00m\n\u001B[0;32m-> 3274\u001B[0m     \u001B[38;5;28;01mreturn\u001B[39;00m \u001B[38;5;28;43mself\u001B[39;49m\u001B[38;5;241;43m.\u001B[39;49m\u001B[43m_connection_cls\u001B[49m\u001B[43m(\u001B[49m\u001B[38;5;28;43mself\u001B[39;49m\u001B[43m)\u001B[49m\n",
      "File \u001B[0;32m/opt/miniconda3/envs/explore/lib/python3.12/site-packages/sqlalchemy/engine/base.py:148\u001B[0m, in \u001B[0;36mConnection.__init__\u001B[0;34m(self, engine, connection, _has_events, _allow_revalidate, _allow_autobegin)\u001B[0m\n\u001B[1;32m    146\u001B[0m         \u001B[38;5;28mself\u001B[39m\u001B[38;5;241m.\u001B[39m_dbapi_connection \u001B[38;5;241m=\u001B[39m engine\u001B[38;5;241m.\u001B[39mraw_connection()\n\u001B[1;32m    147\u001B[0m     \u001B[38;5;28;01mexcept\u001B[39;00m dialect\u001B[38;5;241m.\u001B[39mloaded_dbapi\u001B[38;5;241m.\u001B[39mError \u001B[38;5;28;01mas\u001B[39;00m err:\n\u001B[0;32m--> 148\u001B[0m         \u001B[43mConnection\u001B[49m\u001B[38;5;241;43m.\u001B[39;49m\u001B[43m_handle_dbapi_exception_noconnection\u001B[49m\u001B[43m(\u001B[49m\n\u001B[1;32m    149\u001B[0m \u001B[43m            \u001B[49m\u001B[43merr\u001B[49m\u001B[43m,\u001B[49m\u001B[43m \u001B[49m\u001B[43mdialect\u001B[49m\u001B[43m,\u001B[49m\u001B[43m \u001B[49m\u001B[43mengine\u001B[49m\n\u001B[1;32m    150\u001B[0m \u001B[43m        \u001B[49m\u001B[43m)\u001B[49m\n\u001B[1;32m    151\u001B[0m         \u001B[38;5;28;01mraise\u001B[39;00m\n\u001B[1;32m    152\u001B[0m \u001B[38;5;28;01melse\u001B[39;00m:\n",
      "File \u001B[0;32m/opt/miniconda3/envs/explore/lib/python3.12/site-packages/sqlalchemy/engine/base.py:2439\u001B[0m, in \u001B[0;36mConnection._handle_dbapi_exception_noconnection\u001B[0;34m(cls, e, dialect, engine, is_disconnect, invalidate_pool_on_disconnect, is_pre_ping)\u001B[0m\n\u001B[1;32m   2437\u001B[0m \u001B[38;5;28;01melif\u001B[39;00m should_wrap:\n\u001B[1;32m   2438\u001B[0m     \u001B[38;5;28;01massert\u001B[39;00m sqlalchemy_exception \u001B[38;5;129;01mis\u001B[39;00m \u001B[38;5;129;01mnot\u001B[39;00m \u001B[38;5;28;01mNone\u001B[39;00m\n\u001B[0;32m-> 2439\u001B[0m     \u001B[38;5;28;01mraise\u001B[39;00m sqlalchemy_exception\u001B[38;5;241m.\u001B[39mwith_traceback(exc_info[\u001B[38;5;241m2\u001B[39m]) \u001B[38;5;28;01mfrom\u001B[39;00m \u001B[38;5;21;01me\u001B[39;00m\n\u001B[1;32m   2440\u001B[0m \u001B[38;5;28;01melse\u001B[39;00m:\n\u001B[1;32m   2441\u001B[0m     \u001B[38;5;28;01massert\u001B[39;00m exc_info[\u001B[38;5;241m1\u001B[39m] \u001B[38;5;129;01mis\u001B[39;00m \u001B[38;5;129;01mnot\u001B[39;00m \u001B[38;5;28;01mNone\u001B[39;00m\n",
      "File \u001B[0;32m/opt/miniconda3/envs/explore/lib/python3.12/site-packages/sqlalchemy/engine/base.py:146\u001B[0m, in \u001B[0;36mConnection.__init__\u001B[0;34m(self, engine, connection, _has_events, _allow_revalidate, _allow_autobegin)\u001B[0m\n\u001B[1;32m    144\u001B[0m \u001B[38;5;28;01mif\u001B[39;00m connection \u001B[38;5;129;01mis\u001B[39;00m \u001B[38;5;28;01mNone\u001B[39;00m:\n\u001B[1;32m    145\u001B[0m     \u001B[38;5;28;01mtry\u001B[39;00m:\n\u001B[0;32m--> 146\u001B[0m         \u001B[38;5;28mself\u001B[39m\u001B[38;5;241m.\u001B[39m_dbapi_connection \u001B[38;5;241m=\u001B[39m \u001B[43mengine\u001B[49m\u001B[38;5;241;43m.\u001B[39;49m\u001B[43mraw_connection\u001B[49m\u001B[43m(\u001B[49m\u001B[43m)\u001B[49m\n\u001B[1;32m    147\u001B[0m     \u001B[38;5;28;01mexcept\u001B[39;00m dialect\u001B[38;5;241m.\u001B[39mloaded_dbapi\u001B[38;5;241m.\u001B[39mError \u001B[38;5;28;01mas\u001B[39;00m err:\n\u001B[1;32m    148\u001B[0m         Connection\u001B[38;5;241m.\u001B[39m_handle_dbapi_exception_noconnection(\n\u001B[1;32m    149\u001B[0m             err, dialect, engine\n\u001B[1;32m    150\u001B[0m         )\n",
      "File \u001B[0;32m/opt/miniconda3/envs/explore/lib/python3.12/site-packages/sqlalchemy/engine/base.py:3298\u001B[0m, in \u001B[0;36mEngine.raw_connection\u001B[0;34m(self)\u001B[0m\n\u001B[1;32m   3276\u001B[0m \u001B[38;5;28;01mdef\u001B[39;00m \u001B[38;5;21mraw_connection\u001B[39m(\u001B[38;5;28mself\u001B[39m) \u001B[38;5;241m-\u001B[39m\u001B[38;5;241m>\u001B[39m PoolProxiedConnection:\n\u001B[1;32m   3277\u001B[0m \u001B[38;5;250m    \u001B[39m\u001B[38;5;124;03m\"\"\"Return a \"raw\" DBAPI connection from the connection pool.\u001B[39;00m\n\u001B[1;32m   3278\u001B[0m \n\u001B[1;32m   3279\u001B[0m \u001B[38;5;124;03m    The returned object is a proxied version of the DBAPI\u001B[39;00m\n\u001B[0;32m   (...)\u001B[0m\n\u001B[1;32m   3296\u001B[0m \n\u001B[1;32m   3297\u001B[0m \u001B[38;5;124;03m    \"\"\"\u001B[39;00m\n\u001B[0;32m-> 3298\u001B[0m     \u001B[38;5;28;01mreturn\u001B[39;00m \u001B[38;5;28;43mself\u001B[39;49m\u001B[38;5;241;43m.\u001B[39;49m\u001B[43mpool\u001B[49m\u001B[38;5;241;43m.\u001B[39;49m\u001B[43mconnect\u001B[49m\u001B[43m(\u001B[49m\u001B[43m)\u001B[49m\n",
      "File \u001B[0;32m/opt/miniconda3/envs/explore/lib/python3.12/site-packages/sqlalchemy/pool/base.py:449\u001B[0m, in \u001B[0;36mPool.connect\u001B[0;34m(self)\u001B[0m\n\u001B[1;32m    441\u001B[0m \u001B[38;5;28;01mdef\u001B[39;00m \u001B[38;5;21mconnect\u001B[39m(\u001B[38;5;28mself\u001B[39m) \u001B[38;5;241m-\u001B[39m\u001B[38;5;241m>\u001B[39m PoolProxiedConnection:\n\u001B[1;32m    442\u001B[0m \u001B[38;5;250m    \u001B[39m\u001B[38;5;124;03m\"\"\"Return a DBAPI connection from the pool.\u001B[39;00m\n\u001B[1;32m    443\u001B[0m \n\u001B[1;32m    444\u001B[0m \u001B[38;5;124;03m    The connection is instrumented such that when its\u001B[39;00m\n\u001B[0;32m   (...)\u001B[0m\n\u001B[1;32m    447\u001B[0m \n\u001B[1;32m    448\u001B[0m \u001B[38;5;124;03m    \"\"\"\u001B[39;00m\n\u001B[0;32m--> 449\u001B[0m     \u001B[38;5;28;01mreturn\u001B[39;00m \u001B[43m_ConnectionFairy\u001B[49m\u001B[38;5;241;43m.\u001B[39;49m\u001B[43m_checkout\u001B[49m\u001B[43m(\u001B[49m\u001B[38;5;28;43mself\u001B[39;49m\u001B[43m)\u001B[49m\n",
      "File \u001B[0;32m/opt/miniconda3/envs/explore/lib/python3.12/site-packages/sqlalchemy/pool/base.py:1263\u001B[0m, in \u001B[0;36m_ConnectionFairy._checkout\u001B[0;34m(cls, pool, threadconns, fairy)\u001B[0m\n\u001B[1;32m   1255\u001B[0m \u001B[38;5;129m@classmethod\u001B[39m\n\u001B[1;32m   1256\u001B[0m \u001B[38;5;28;01mdef\u001B[39;00m \u001B[38;5;21m_checkout\u001B[39m(\n\u001B[1;32m   1257\u001B[0m     \u001B[38;5;28mcls\u001B[39m,\n\u001B[0;32m   (...)\u001B[0m\n\u001B[1;32m   1260\u001B[0m     fairy: Optional[_ConnectionFairy] \u001B[38;5;241m=\u001B[39m \u001B[38;5;28;01mNone\u001B[39;00m,\n\u001B[1;32m   1261\u001B[0m ) \u001B[38;5;241m-\u001B[39m\u001B[38;5;241m>\u001B[39m _ConnectionFairy:\n\u001B[1;32m   1262\u001B[0m     \u001B[38;5;28;01mif\u001B[39;00m \u001B[38;5;129;01mnot\u001B[39;00m fairy:\n\u001B[0;32m-> 1263\u001B[0m         fairy \u001B[38;5;241m=\u001B[39m \u001B[43m_ConnectionRecord\u001B[49m\u001B[38;5;241;43m.\u001B[39;49m\u001B[43mcheckout\u001B[49m\u001B[43m(\u001B[49m\u001B[43mpool\u001B[49m\u001B[43m)\u001B[49m\n\u001B[1;32m   1265\u001B[0m         \u001B[38;5;28;01mif\u001B[39;00m threadconns \u001B[38;5;129;01mis\u001B[39;00m \u001B[38;5;129;01mnot\u001B[39;00m \u001B[38;5;28;01mNone\u001B[39;00m:\n\u001B[1;32m   1266\u001B[0m             threadconns\u001B[38;5;241m.\u001B[39mcurrent \u001B[38;5;241m=\u001B[39m weakref\u001B[38;5;241m.\u001B[39mref(fairy)\n",
      "File \u001B[0;32m/opt/miniconda3/envs/explore/lib/python3.12/site-packages/sqlalchemy/pool/base.py:717\u001B[0m, in \u001B[0;36m_ConnectionRecord.checkout\u001B[0;34m(cls, pool)\u001B[0m\n\u001B[1;32m    715\u001B[0m     dbapi_connection \u001B[38;5;241m=\u001B[39m rec\u001B[38;5;241m.\u001B[39mget_connection()\n\u001B[1;32m    716\u001B[0m \u001B[38;5;28;01mexcept\u001B[39;00m \u001B[38;5;167;01mBaseException\u001B[39;00m \u001B[38;5;28;01mas\u001B[39;00m err:\n\u001B[0;32m--> 717\u001B[0m \u001B[43m    \u001B[49m\u001B[38;5;28;43;01mwith\u001B[39;49;00m\u001B[43m \u001B[49m\u001B[43mutil\u001B[49m\u001B[38;5;241;43m.\u001B[39;49m\u001B[43msafe_reraise\u001B[49m\u001B[43m(\u001B[49m\u001B[43m)\u001B[49m\u001B[43m:\u001B[49m\n\u001B[1;32m    718\u001B[0m \u001B[43m        \u001B[49m\u001B[43mrec\u001B[49m\u001B[38;5;241;43m.\u001B[39;49m\u001B[43m_checkin_failed\u001B[49m\u001B[43m(\u001B[49m\u001B[43merr\u001B[49m\u001B[43m,\u001B[49m\u001B[43m \u001B[49m\u001B[43m_fairy_was_created\u001B[49m\u001B[38;5;241;43m=\u001B[39;49m\u001B[38;5;28;43;01mFalse\u001B[39;49;00m\u001B[43m)\u001B[49m\n\u001B[1;32m    720\u001B[0m     \u001B[38;5;66;03m# not reached, for code linters only\u001B[39;00m\n",
      "File \u001B[0;32m/opt/miniconda3/envs/explore/lib/python3.12/site-packages/sqlalchemy/util/langhelpers.py:146\u001B[0m, in \u001B[0;36msafe_reraise.__exit__\u001B[0;34m(self, type_, value, traceback)\u001B[0m\n\u001B[1;32m    144\u001B[0m     \u001B[38;5;28;01massert\u001B[39;00m exc_value \u001B[38;5;129;01mis\u001B[39;00m \u001B[38;5;129;01mnot\u001B[39;00m \u001B[38;5;28;01mNone\u001B[39;00m\n\u001B[1;32m    145\u001B[0m     \u001B[38;5;28mself\u001B[39m\u001B[38;5;241m.\u001B[39m_exc_info \u001B[38;5;241m=\u001B[39m \u001B[38;5;28;01mNone\u001B[39;00m  \u001B[38;5;66;03m# remove potential circular references\u001B[39;00m\n\u001B[0;32m--> 146\u001B[0m     \u001B[38;5;28;01mraise\u001B[39;00m exc_value\u001B[38;5;241m.\u001B[39mwith_traceback(exc_tb)\n\u001B[1;32m    147\u001B[0m \u001B[38;5;28;01melse\u001B[39;00m:\n\u001B[1;32m    148\u001B[0m     \u001B[38;5;28mself\u001B[39m\u001B[38;5;241m.\u001B[39m_exc_info \u001B[38;5;241m=\u001B[39m \u001B[38;5;28;01mNone\u001B[39;00m  \u001B[38;5;66;03m# remove potential circular references\u001B[39;00m\n",
      "File \u001B[0;32m/opt/miniconda3/envs/explore/lib/python3.12/site-packages/sqlalchemy/pool/base.py:715\u001B[0m, in \u001B[0;36m_ConnectionRecord.checkout\u001B[0;34m(cls, pool)\u001B[0m\n\u001B[1;32m    712\u001B[0m     rec \u001B[38;5;241m=\u001B[39m pool\u001B[38;5;241m.\u001B[39m_do_get()\n\u001B[1;32m    714\u001B[0m \u001B[38;5;28;01mtry\u001B[39;00m:\n\u001B[0;32m--> 715\u001B[0m     dbapi_connection \u001B[38;5;241m=\u001B[39m \u001B[43mrec\u001B[49m\u001B[38;5;241;43m.\u001B[39;49m\u001B[43mget_connection\u001B[49m\u001B[43m(\u001B[49m\u001B[43m)\u001B[49m\n\u001B[1;32m    716\u001B[0m \u001B[38;5;28;01mexcept\u001B[39;00m \u001B[38;5;167;01mBaseException\u001B[39;00m \u001B[38;5;28;01mas\u001B[39;00m err:\n\u001B[1;32m    717\u001B[0m     \u001B[38;5;28;01mwith\u001B[39;00m util\u001B[38;5;241m.\u001B[39msafe_reraise():\n",
      "File \u001B[0;32m/opt/miniconda3/envs/explore/lib/python3.12/site-packages/sqlalchemy/pool/base.py:837\u001B[0m, in \u001B[0;36m_ConnectionRecord.get_connection\u001B[0;34m(self)\u001B[0m\n\u001B[1;32m    835\u001B[0m \u001B[38;5;28;01mif\u001B[39;00m \u001B[38;5;28mself\u001B[39m\u001B[38;5;241m.\u001B[39mdbapi_connection \u001B[38;5;129;01mis\u001B[39;00m \u001B[38;5;28;01mNone\u001B[39;00m:\n\u001B[1;32m    836\u001B[0m     \u001B[38;5;28mself\u001B[39m\u001B[38;5;241m.\u001B[39minfo\u001B[38;5;241m.\u001B[39mclear()\n\u001B[0;32m--> 837\u001B[0m     \u001B[38;5;28;43mself\u001B[39;49m\u001B[38;5;241;43m.\u001B[39;49m\u001B[43m__connect\u001B[49m\u001B[43m(\u001B[49m\u001B[43m)\u001B[49m\n\u001B[1;32m    838\u001B[0m \u001B[38;5;28;01melif\u001B[39;00m (\n\u001B[1;32m    839\u001B[0m     \u001B[38;5;28mself\u001B[39m\u001B[38;5;241m.\u001B[39m__pool\u001B[38;5;241m.\u001B[39m_recycle \u001B[38;5;241m>\u001B[39m \u001B[38;5;241m-\u001B[39m\u001B[38;5;241m1\u001B[39m\n\u001B[1;32m    840\u001B[0m     \u001B[38;5;129;01mand\u001B[39;00m time\u001B[38;5;241m.\u001B[39mtime() \u001B[38;5;241m-\u001B[39m \u001B[38;5;28mself\u001B[39m\u001B[38;5;241m.\u001B[39mstarttime \u001B[38;5;241m>\u001B[39m \u001B[38;5;28mself\u001B[39m\u001B[38;5;241m.\u001B[39m__pool\u001B[38;5;241m.\u001B[39m_recycle\n\u001B[1;32m    841\u001B[0m ):\n\u001B[1;32m    842\u001B[0m     \u001B[38;5;28mself\u001B[39m\u001B[38;5;241m.\u001B[39m__pool\u001B[38;5;241m.\u001B[39mlogger\u001B[38;5;241m.\u001B[39minfo(\n\u001B[1;32m    843\u001B[0m         \u001B[38;5;124m\"\u001B[39m\u001B[38;5;124mConnection \u001B[39m\u001B[38;5;132;01m%r\u001B[39;00m\u001B[38;5;124m exceeded timeout; recycling\u001B[39m\u001B[38;5;124m\"\u001B[39m,\n\u001B[1;32m    844\u001B[0m         \u001B[38;5;28mself\u001B[39m\u001B[38;5;241m.\u001B[39mdbapi_connection,\n\u001B[1;32m    845\u001B[0m     )\n",
      "File \u001B[0;32m/opt/miniconda3/envs/explore/lib/python3.12/site-packages/sqlalchemy/pool/base.py:900\u001B[0m, in \u001B[0;36m_ConnectionRecord.__connect\u001B[0;34m(self)\u001B[0m\n\u001B[1;32m    898\u001B[0m     \u001B[38;5;28mself\u001B[39m\u001B[38;5;241m.\u001B[39mfresh \u001B[38;5;241m=\u001B[39m \u001B[38;5;28;01mTrue\u001B[39;00m\n\u001B[1;32m    899\u001B[0m \u001B[38;5;28;01mexcept\u001B[39;00m \u001B[38;5;167;01mBaseException\u001B[39;00m \u001B[38;5;28;01mas\u001B[39;00m e:\n\u001B[0;32m--> 900\u001B[0m \u001B[43m    \u001B[49m\u001B[38;5;28;43;01mwith\u001B[39;49;00m\u001B[43m \u001B[49m\u001B[43mutil\u001B[49m\u001B[38;5;241;43m.\u001B[39;49m\u001B[43msafe_reraise\u001B[49m\u001B[43m(\u001B[49m\u001B[43m)\u001B[49m\u001B[43m:\u001B[49m\n\u001B[1;32m    901\u001B[0m \u001B[43m        \u001B[49m\u001B[43mpool\u001B[49m\u001B[38;5;241;43m.\u001B[39;49m\u001B[43mlogger\u001B[49m\u001B[38;5;241;43m.\u001B[39;49m\u001B[43mdebug\u001B[49m\u001B[43m(\u001B[49m\u001B[38;5;124;43m\"\u001B[39;49m\u001B[38;5;124;43mError on connect(): \u001B[39;49m\u001B[38;5;132;43;01m%s\u001B[39;49;00m\u001B[38;5;124;43m\"\u001B[39;49m\u001B[43m,\u001B[49m\u001B[43m \u001B[49m\u001B[43me\u001B[49m\u001B[43m)\u001B[49m\n\u001B[1;32m    902\u001B[0m \u001B[38;5;28;01melse\u001B[39;00m:\n\u001B[1;32m    903\u001B[0m     \u001B[38;5;66;03m# in SQLAlchemy 1.4 the first_connect event is not used by\u001B[39;00m\n\u001B[1;32m    904\u001B[0m     \u001B[38;5;66;03m# the engine, so this will usually not be set\u001B[39;00m\n",
      "File \u001B[0;32m/opt/miniconda3/envs/explore/lib/python3.12/site-packages/sqlalchemy/util/langhelpers.py:146\u001B[0m, in \u001B[0;36msafe_reraise.__exit__\u001B[0;34m(self, type_, value, traceback)\u001B[0m\n\u001B[1;32m    144\u001B[0m     \u001B[38;5;28;01massert\u001B[39;00m exc_value \u001B[38;5;129;01mis\u001B[39;00m \u001B[38;5;129;01mnot\u001B[39;00m \u001B[38;5;28;01mNone\u001B[39;00m\n\u001B[1;32m    145\u001B[0m     \u001B[38;5;28mself\u001B[39m\u001B[38;5;241m.\u001B[39m_exc_info \u001B[38;5;241m=\u001B[39m \u001B[38;5;28;01mNone\u001B[39;00m  \u001B[38;5;66;03m# remove potential circular references\u001B[39;00m\n\u001B[0;32m--> 146\u001B[0m     \u001B[38;5;28;01mraise\u001B[39;00m exc_value\u001B[38;5;241m.\u001B[39mwith_traceback(exc_tb)\n\u001B[1;32m    147\u001B[0m \u001B[38;5;28;01melse\u001B[39;00m:\n\u001B[1;32m    148\u001B[0m     \u001B[38;5;28mself\u001B[39m\u001B[38;5;241m.\u001B[39m_exc_info \u001B[38;5;241m=\u001B[39m \u001B[38;5;28;01mNone\u001B[39;00m  \u001B[38;5;66;03m# remove potential circular references\u001B[39;00m\n",
      "File \u001B[0;32m/opt/miniconda3/envs/explore/lib/python3.12/site-packages/sqlalchemy/pool/base.py:896\u001B[0m, in \u001B[0;36m_ConnectionRecord.__connect\u001B[0;34m(self)\u001B[0m\n\u001B[1;32m    894\u001B[0m \u001B[38;5;28;01mtry\u001B[39;00m:\n\u001B[1;32m    895\u001B[0m     \u001B[38;5;28mself\u001B[39m\u001B[38;5;241m.\u001B[39mstarttime \u001B[38;5;241m=\u001B[39m time\u001B[38;5;241m.\u001B[39mtime()\n\u001B[0;32m--> 896\u001B[0m     \u001B[38;5;28mself\u001B[39m\u001B[38;5;241m.\u001B[39mdbapi_connection \u001B[38;5;241m=\u001B[39m connection \u001B[38;5;241m=\u001B[39m \u001B[43mpool\u001B[49m\u001B[38;5;241;43m.\u001B[39;49m\u001B[43m_invoke_creator\u001B[49m\u001B[43m(\u001B[49m\u001B[38;5;28;43mself\u001B[39;49m\u001B[43m)\u001B[49m\n\u001B[1;32m    897\u001B[0m     pool\u001B[38;5;241m.\u001B[39mlogger\u001B[38;5;241m.\u001B[39mdebug(\u001B[38;5;124m\"\u001B[39m\u001B[38;5;124mCreated new connection \u001B[39m\u001B[38;5;132;01m%r\u001B[39;00m\u001B[38;5;124m\"\u001B[39m, connection)\n\u001B[1;32m    898\u001B[0m     \u001B[38;5;28mself\u001B[39m\u001B[38;5;241m.\u001B[39mfresh \u001B[38;5;241m=\u001B[39m \u001B[38;5;28;01mTrue\u001B[39;00m\n",
      "File \u001B[0;32m/opt/miniconda3/envs/explore/lib/python3.12/site-packages/sqlalchemy/engine/create.py:646\u001B[0m, in \u001B[0;36mcreate_engine.<locals>.connect\u001B[0;34m(connection_record)\u001B[0m\n\u001B[1;32m    643\u001B[0m         \u001B[38;5;28;01mif\u001B[39;00m connection \u001B[38;5;129;01mis\u001B[39;00m \u001B[38;5;129;01mnot\u001B[39;00m \u001B[38;5;28;01mNone\u001B[39;00m:\n\u001B[1;32m    644\u001B[0m             \u001B[38;5;28;01mreturn\u001B[39;00m connection\n\u001B[0;32m--> 646\u001B[0m \u001B[38;5;28;01mreturn\u001B[39;00m \u001B[43mdialect\u001B[49m\u001B[38;5;241;43m.\u001B[39;49m\u001B[43mconnect\u001B[49m\u001B[43m(\u001B[49m\u001B[38;5;241;43m*\u001B[39;49m\u001B[43mcargs\u001B[49m\u001B[43m,\u001B[49m\u001B[43m \u001B[49m\u001B[38;5;241;43m*\u001B[39;49m\u001B[38;5;241;43m*\u001B[39;49m\u001B[43mcparams\u001B[49m\u001B[43m)\u001B[49m\n",
      "File \u001B[0;32m/opt/miniconda3/envs/explore/lib/python3.12/site-packages/sqlalchemy/engine/default.py:622\u001B[0m, in \u001B[0;36mDefaultDialect.connect\u001B[0;34m(self, *cargs, **cparams)\u001B[0m\n\u001B[1;32m    620\u001B[0m \u001B[38;5;28;01mdef\u001B[39;00m \u001B[38;5;21mconnect\u001B[39m(\u001B[38;5;28mself\u001B[39m, \u001B[38;5;241m*\u001B[39mcargs, \u001B[38;5;241m*\u001B[39m\u001B[38;5;241m*\u001B[39mcparams):\n\u001B[1;32m    621\u001B[0m     \u001B[38;5;66;03m# inherits the docstring from interfaces.Dialect.connect\u001B[39;00m\n\u001B[0;32m--> 622\u001B[0m     \u001B[38;5;28;01mreturn\u001B[39;00m \u001B[38;5;28;43mself\u001B[39;49m\u001B[38;5;241;43m.\u001B[39;49m\u001B[43mloaded_dbapi\u001B[49m\u001B[38;5;241;43m.\u001B[39;49m\u001B[43mconnect\u001B[49m\u001B[43m(\u001B[49m\u001B[38;5;241;43m*\u001B[39;49m\u001B[43mcargs\u001B[49m\u001B[43m,\u001B[49m\u001B[43m \u001B[49m\u001B[38;5;241;43m*\u001B[39;49m\u001B[38;5;241;43m*\u001B[39;49m\u001B[43mcparams\u001B[49m\u001B[43m)\u001B[49m\n",
      "File \u001B[0;32m/opt/miniconda3/envs/explore/lib/python3.12/site-packages/psycopg2/__init__.py:122\u001B[0m, in \u001B[0;36mconnect\u001B[0;34m(dsn, connection_factory, cursor_factory, **kwargs)\u001B[0m\n\u001B[1;32m    119\u001B[0m     kwasync[\u001B[38;5;124m'\u001B[39m\u001B[38;5;124masync_\u001B[39m\u001B[38;5;124m'\u001B[39m] \u001B[38;5;241m=\u001B[39m kwargs\u001B[38;5;241m.\u001B[39mpop(\u001B[38;5;124m'\u001B[39m\u001B[38;5;124masync_\u001B[39m\u001B[38;5;124m'\u001B[39m)\n\u001B[1;32m    121\u001B[0m dsn \u001B[38;5;241m=\u001B[39m _ext\u001B[38;5;241m.\u001B[39mmake_dsn(dsn, \u001B[38;5;241m*\u001B[39m\u001B[38;5;241m*\u001B[39mkwargs)\n\u001B[0;32m--> 122\u001B[0m conn \u001B[38;5;241m=\u001B[39m \u001B[43m_connect\u001B[49m\u001B[43m(\u001B[49m\u001B[43mdsn\u001B[49m\u001B[43m,\u001B[49m\u001B[43m \u001B[49m\u001B[43mconnection_factory\u001B[49m\u001B[38;5;241;43m=\u001B[39;49m\u001B[43mconnection_factory\u001B[49m\u001B[43m,\u001B[49m\u001B[43m \u001B[49m\u001B[38;5;241;43m*\u001B[39;49m\u001B[38;5;241;43m*\u001B[39;49m\u001B[43mkwasync\u001B[49m\u001B[43m)\u001B[49m\n\u001B[1;32m    123\u001B[0m \u001B[38;5;28;01mif\u001B[39;00m cursor_factory \u001B[38;5;129;01mis\u001B[39;00m \u001B[38;5;129;01mnot\u001B[39;00m \u001B[38;5;28;01mNone\u001B[39;00m:\n\u001B[1;32m    124\u001B[0m     conn\u001B[38;5;241m.\u001B[39mcursor_factory \u001B[38;5;241m=\u001B[39m cursor_factory\n",
      "\u001B[0;31mOperationalError\u001B[0m: (psycopg2.OperationalError) could not translate host name \"uneven-dingo-4829.jxf.gcp-us-east1.cockroachlabs.cloud\" to address: nodename nor servname provided, or not known\n\n(Background on this error at: https://sqlalche.me/e/20/e3q8)"
     ]
    }
   ]
  },
  {
   "cell_type": "code",
   "execution_count": null,
   "metadata": {},
   "outputs": [],
   "source": []
  }
 ],
 "metadata": {
  "colab": {
   "include_colab_link": true,
   "machine_shape": "hm",
   "provenance": []
  },
  "kernelspec": {
   "display_name": "Python 3 (ipykernel)",
   "language": "python",
   "name": "python3"
  },
  "language_info": {
   "codemirror_mode": {
    "name": "ipython",
    "version": 3
   },
   "file_extension": ".py",
   "mimetype": "text/x-python",
   "name": "python",
   "nbconvert_exporter": "python",
   "pygments_lexer": "ipython3",
   "version": "3.12.2"
  }
 },
 "nbformat": 4,
 "nbformat_minor": 4
}
