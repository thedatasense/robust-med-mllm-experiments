{
 "cells": [
  {
   "cell_type": "markdown",
   "metadata": {
    "id": "view-in-github",
    "colab_type": "text"
   },
   "source": [
    "<a href=\"https://colab.research.google.com/github/thedatasense/llm-healthcare/blob/main/MIMIC_GPT_Evaluation_C.ipynb\" target=\"_parent\"><img src=\"https://colab.research.google.com/assets/colab-badge.svg\" alt=\"Open In Colab\"/></a>"
   ]
  },
  {
   "cell_type": "code",
   "execution_count": 6,
   "metadata": {
    "id": "d4b6ArvcGvFf"
   },
   "outputs": [],
   "source": [
    "import sys\n",
    "!pip install -q  sqlalchemy cockroachdb pandas psycopg2-binary matplotlib"
   ]
  },
  {
   "cell_type": "code",
   "metadata": {
    "colab": {
     "base_uri": "https://localhost:8080/"
    },
    "id": "RPISEELWNK4h",
    "outputId": "4cccb605-d515-4cf0-c658-76d3e1753f8c",
    "ExecuteTime": {
     "end_time": "2025-03-01T02:10:39.039108Z",
     "start_time": "2025-03-01T02:10:38.630377Z"
    }
   },
   "source": [
    "!curl --create-dirs -o $HOME/.postgresql/root.crt 'https://cockroachlabs.cloud/clusters/5bbbe91d-b65e-410e-a783-597c93f501f6/cert'"
   ],
   "outputs": [
    {
     "name": "stdout",
     "output_type": "stream",
     "text": [
      "  % Total    % Received % Xferd  Average Speed   Time    Time     Time  Current\r\n",
      "                                 Dload  Upload   Total   Spent    Left  Speed\r\n",
      "100  2728    0  2728    0     0  11086      0 --:--:-- --:--:-- --:--:-- 11089\r\n"
     ]
    }
   ],
   "execution_count": 1
  },
  {
   "cell_type": "code",
   "metadata": {
    "id": "mYj_N4onKe2h",
    "ExecuteTime": {
     "end_time": "2025-03-01T02:30:29.691438Z",
     "start_time": "2025-03-01T02:30:29.688881Z"
    }
   },
   "source": [
    "import pandas as pd\n",
    "from IPython.display import clear_output\n",
    "from sqlalchemy.engine import create_engine\n",
    "#from datasets import load_dataset\n",
    "from openai import OpenAI\n",
    "import io\n",
    "import base64\n",
    "import random\n",
    "import requests\n",
    "import torch\n",
    "from PIL import Image\n",
    "#from transformers import AutoProcessor,Qwen2_5_VLForConditionalGeneration\n",
    "#from qwen_vl_utils import process_vision_info\n",
    "import os\n",
    "import pandas as pd\n",
    "from sqlalchemy.engine import create_engine\n",
    "#from transformers import AutoProcessor, BitsAndBytesConfig\n",
    "import json\n",
    "import yaml\n",
    "import platform"
   ],
   "outputs": [],
   "execution_count": 25
  },
  {
   "metadata": {
    "ExecuteTime": {
     "end_time": "2025-03-01T02:33:37.130884Z",
     "start_time": "2025-03-01T02:33:37.127015Z"
    }
   },
   "cell_type": "code",
   "source": [
    "def get_from_cnfg(key_path,file_path=cnfig_file):\n",
    "    try:\n",
    "        with open(file_path, 'r') as file:\n",
    "            data = yaml.safe_load(file)\n",
    "\n",
    "        keys = key_path.split('.')\n",
    "        value = data\n",
    "        for key in keys:\n",
    "            value = value[key]\n",
    "        return value\n",
    "\n",
    "    except FileNotFoundError:\n",
    "        print(f\"File {file_path} not found\")\n",
    "    except yaml.YAMLError as e:\n",
    "        print(f\"YAML parsing error: {e}\")\n",
    "    except KeyError:\n",
    "        print(f\"Key path {key_path} not found\")\n",
    "    except Exception as e:\n",
    "        print(f\"Error: {e}\")\n",
    "    return None\n",
    "os_name = platform.system()"
   ],
   "outputs": [],
   "execution_count": 27
  },
  {
   "metadata": {
    "ExecuteTime": {
     "end_time": "2025-03-01T02:37:29.424593Z",
     "start_time": "2025-03-01T02:37:29.418881Z"
    }
   },
   "cell_type": "code",
   "source": [
    "if 'google.colab' in sys.modules:\n",
    "    from google.colab import drive\n",
    "    drive.mount('/content/drive')\n",
    "    from google.colab import userdata\n",
    "    engine = create_engine(userdata.get('DB_URL'))\n",
    "    gem_key=userdata.get('DB_URL')\n",
    "    oai_key=userdata.get('DB_URL')\n",
    "    source_folder='/content/drive/MyDrive/Health_Data/MIMIC_JPG_AVL/mimic-cxr-jpg/2.1.0/files/'\n",
    "elif os_name == \"Darwin\":\n",
    "    cnfig_file=\"/Users/bineshkumar/Documents/config.yaml\"\n",
    "    DB_URL = get_from_cnfg(\"cd_url\",cnfig_file)\n",
    "    gem_key=get_from_cnfg(\"gem_token\",cnfig_file)\n",
    "    oai_key=get_from_cnfg(\"oai_token\",cnfig_file)\n",
    "    source_folder='/Users/bineshkumar/Documents/mimic-cxr-jpg/2.1.0/files/'\n",
    "elif os_name == \"Linux\":\n",
    "    DB_URL = get_from_cnfg(\"cd_url\",cnfig_file)\n",
    "    gem_key=get_from_cnfg(\"gem_token\",cnfig_file)\n",
    "    oai_key=get_from_cnfg(\"oai_token\",cnfig_file)\n",
    "    source_folder=\"\"\n",
    "engine = create_engine(DB_URL)"
   ],
   "outputs": [],
   "execution_count": 44
  },
  {
   "cell_type": "code",
   "metadata": {
    "id": "zftRNEw1stLO",
    "ExecuteTime": {
     "end_time": "2025-03-01T02:34:08.501003Z",
     "start_time": "2025-03-01T02:34:08.498545Z"
    }
   },
   "source": [
    "def insert_model_response(engine, uid,question_id,question, question_category, actual_answer, model_name, model_answer, image_link):\n",
    "    from sqlalchemy import text\n",
    "    with engine.connect() as conn:\n",
    "        trans = conn.begin()\n",
    "        try:\n",
    "            conn.execute(text(\"\"\"\n",
    "                INSERT INTO model_responses_r2\n",
    "                (uid,question_id,question, question_category, actual_answer, model_name, model_answer, image_link)\n",
    "                VALUES (:uid,:question_id,:question, :question_category, :actual_answer, :model_name, :model_answer, :image_link)\n",
    "            \"\"\"), {\n",
    "                \"uid\": uid,\n",
    "                \"question_id\": question_id,\n",
    "                \"question\": question,\n",
    "                \"question_category\": question_category,\n",
    "                \"actual_answer\": actual_answer,\n",
    "                \"model_name\": model_name,\n",
    "                \"model_answer\": model_answer,\n",
    "                \"image_link\": image_link\n",
    "            })\n",
    "            trans.commit()  # Commit the transaction\n",
    "        except Exception as e:\n",
    "            trans.rollback()\n",
    "            raise e"
   ],
   "outputs": [],
   "execution_count": 31
  },
  {
   "cell_type": "code",
   "metadata": {
    "id": "I4-EulRd2Mo1",
    "ExecuteTime": {
     "end_time": "2025-03-01T02:34:13.772556Z",
     "start_time": "2025-03-01T02:34:13.769353Z"
    }
   },
   "source": [
    "def check_duplicate(engine,uid,question_id,question, question_category, model_name,image_link):\n",
    "    query = text(\"\"\"\n",
    "        SELECT 1 FROM model_responses_r2\n",
    "        WHERE\n",
    "        uid = :uid\n",
    "        AND question_id = :question_id and\n",
    "        question = :question\n",
    "          AND question_category = :question_category\n",
    "          AND model_name = :model_name\n",
    "          AND image_link = :image_link\n",
    "        LIMIT 1\n",
    "    \"\"\")\n",
    "    with engine.connect() as conn:\n",
    "        result = conn.execute(query, {\n",
    "            \"uid\": uid,\n",
    "            \"question_id\": question_id,\n",
    "            \"question\": question,\n",
    "            \"question_category\": question_category,\n",
    "            \"model_name\": model_name,\n",
    "            \"image_link\": image_link\n",
    "        }).fetchone()\n",
    "    return result is not None"
   ],
   "outputs": [],
   "execution_count": 32
  },
  {
   "cell_type": "code",
   "metadata": {
    "id": "0FIav8OWs_6I",
    "ExecuteTime": {
     "end_time": "2025-03-01T02:34:19.293876Z",
     "start_time": "2025-03-01T02:34:19.290762Z"
    }
   },
   "source": [
    "def fetch_generation_data(engine):\n",
    "    import pandas as pd\n",
    "    import re\n",
    "    from sqlalchemy import text\n",
    "    from sqlalchemy.dialects.postgresql.base import PGDialect\n",
    "    def fake_get_server_version_info(self, connection):\n",
    "        version_str = connection.execute(text(\"SELECT version()\")).scalar()\n",
    "        match = re.search(r'v(\\d+)\\.(\\d+)\\.(\\d+)', version_str)\n",
    "        if match:\n",
    "            return tuple(map(int, match.groups()))\n",
    "        return (13, 0, 0)\n",
    "    PGDialect._get_server_version_info = fake_get_server_version_info\n",
    "    query = f\"SELECT id,question_id,condition as question_type, text as question,answer as ground_truth,image from mimic_all_qns; \"\n",
    "    return pd.read_sql(query, con=engine)"
   ],
   "outputs": [],
   "execution_count": 33
  },
  {
   "cell_type": "code",
   "metadata": {
    "id": "3h7GpPmrwUKT",
    "ExecuteTime": {
     "end_time": "2025-03-01T02:36:42.030248Z",
     "start_time": "2025-03-01T02:36:42.027069Z"
    }
   },
   "source": [
    "def encode_image_stream(image_path):\n",
    "    if os.path.exists(image_path):\n",
    "        with open(image_path, \"rb\") as img_file:\n",
    "            return base64.b64encode(img_file.read()).decode(\"utf-8\")\n",
    "    else:\n",
    "        print(f\"{image_path} does not exist\")\n",
    "\n",
    "\n",
    "def generate_gpt_response(prompt_text, image_link):\n",
    "    client = OpenAI(api_key=oai_key)\n",
    "    base64_image = encode_image_stream(image_link)\n",
    "    #print(prompt_text)\n",
    "    response = client.chat.completions.create(\n",
    "        model=\"gpt-4o\",\n",
    "        messages=[\n",
    "            {\n",
    "                \"role\": \"system\",\n",
    "                \"content\": (\n",
    "                    \"You are an expert medical professional. \"\n",
    "                    \"When responding, provide a concise explanation of the image findings. \"\n",
    "                    \"For example, if asked about abnormalities, answer briefly with terms like 'atelectasis, lung opacity'.\"\n",
    "                )\n",
    "            },\n",
    "            {\n",
    "                \"role\": \"user\",\n",
    "                \"content\": [\n",
    "                    {\n",
    "                        \"type\": \"text\",\n",
    "                        \"text\": prompt_text,\n",
    "                    },\n",
    "                    {\n",
    "                        \"type\": \"image_url\",\n",
    "                        \"image_url\": {\"url\": f\"data:image/jpeg;base64,{base64_image}\"}\n",
    "                    },\n",
    "                ],\n",
    "            },\n",
    "        ],\n",
    "    )\n",
    "    return response.choices[0].message.content\n"
   ],
   "outputs": [],
   "execution_count": 40
  },
  {
   "cell_type": "code",
   "execution_count": 17,
   "metadata": {
    "id": "QonkhLqzV3Gu"
   },
   "outputs": [],
   "source": [
    "import random\n",
    "from IPython.display import Image, display\n",
    "\n",
    "def print_a_sample(df,prompt_prefix,source_folder=source_folder,width=250):\n",
    "    # Get a random row as a Series\n",
    "    row = df.sample(n=1).iloc[0]  # Add .iloc[0] to get the row as a Series\n",
    "\n",
    "    # Now these will return scalar values\n",
    "    question = row[\"question\"]\n",
    "    actual_answer = row[\"ground_truth\"]\n",
    "    image_link = source_folder + row[\"image\"]\n",
    "\n",
    "    print(f\"{question}\")\n",
    "    print(f\"GT: {actual_answer}\")\n",
    "    print(f\"Image: {image_link}\")\n",
    "\n",
    "\n",
    "    # Uncommented to display the image\n",
    "    display(Image(filename=image_link, width=width))\n",
    "    generated_answer = generate_gpt_response(prompt_prefix + \" \" + row[\"question_type\"] + \":\" + row[\"question\"] + prompt_prefix, image_link)\n",
    "    print(f\"gpt-4o : {generated_answer}\")\n",
    "    print('--------------------------------')\n"
   ]
  },
  {
   "cell_type": "code",
   "metadata": {
    "colab": {
     "base_uri": "https://localhost:8080/"
    },
    "id": "LY98s-3su7dL",
    "outputId": "86871245-9dc2-4e3b-94a9-c412455c9abd",
    "jupyter": {
     "is_executing": true
    },
    "ExecuteTime": {
     "start_time": "2025-03-01T02:38:10.721489Z"
    }
   },
   "source": [
    "error_file_list = set()\n",
    "from sqlalchemy import text\n",
    "from IPython.display import clear_output\n",
    "model_id=\"gpt-4o\"\n",
    "import time\n",
    "for index, row in fetch_generation_data(engine).iterrows():\n",
    "    uid=row[\"id\"]\n",
    "    question_id=row[\"question_id\"]\n",
    "    question_category=row[\"question_type\"]\n",
    "    question=row[\"question\"]\n",
    "    actual_answer=row[\"ground_truth\"]\n",
    "    image_link = source_folder + row[\"image\"]\n",
    "    if check_duplicate(engine,uid,str(question_id), question, question_category, model_id,image_link):\n",
    "        print(f\"Duplicate record found for question: {question}. Skipping generation.\")\n",
    "        clear_output(wait=True)\n",
    "        continue\n",
    "    try:\n",
    "      generated_answer = generate_gpt_response( row[\"question\"], image_link)\n",
    "    except Exception as e:\n",
    "      print(f\"Error generating response for question: {question}. Error: {e}\")\n",
    "      #clear_output(wait=True)\n",
    "      continue\n",
    "    time.sleep(5)\n",
    "    print(f\"{model_id} : {generated_answer}\")\n",
    "    print(f\"GT: {actual_answer}\")\n",
    "    #insert_model_response(engine, uid,question_id,question, question_category, actual_answer, model_name, model_answer, image_link):\n",
    "    insert_model_response(engine, uid,question_id,question, question_category, actual_answer, \"gpt-4o\", generated_answer,image_link)\n",
    "    print('--------------------------------')\n"
   ],
   "outputs": [
    {
     "name": "stdout",
     "output_type": "stream",
     "text": [
      "gpt-4o : Lower than expected lung volume on a chest X-ray can be caused by several factors:\n",
      "\n",
      "1. **Atelectasis**: Collapse of lung tissue, leading to reduced lung volume.\n",
      "2. **Pleural Effusion**: Fluid accumulation in the pleural space compresses the lung, decreasing its volume.\n",
      "3. **Pneumothorax**: Air in the pleural space can collapse the lung, reducing its volume.\n",
      "4. **Restrictive Lung Disease**: Conditions like pulmonary fibrosis that limit lung expansion.\n",
      "5. **Obesity or Diaphragmatic Elevation**: These can mechanically reduce lung volume.\n",
      "6. **Improper Technique**: Poor inspiration during X-ray acquisition can make lungs appear smaller.\n",
      "\n",
      "Clinical correlation and further imaging may be needed for a definitive diagnosis.\n",
      "GT: Reduced lung volume on a chest X-ray image can be due to a variety of reasons including poor inspiration during the X-ray, underlying lung diseases such as atelectasis, or scarring from previous surgeries or infections.\n",
      "--------------------------------\n",
      "gpt-4o : In the image, the identification of a calcified granuloma in the lung on a chest X-ray suggests a prior inflammatory process, typically from an infection like tuberculosis or histoplasmosis that the body has successfully contained. Calcification generally indicates an inactive, past infection rather than an active disease process. It's usually considered benign and requires no treatment unless there are additional clinical concerns. Regular monitoring might be suggested to ensure there are no changes over time.\n",
      "GT: A calcified granuloma in the lung, as seen on a chest X-ray, usually indicates a prior granulomatous infection such as tuberculosis or histoplasmosis that has healed and left a calcified scar. It typically does not represent an active disease.\n",
      "--------------------------------\n",
      "gpt-4o : In the absence of airspace consolidation on the chest X-ray, the lungs likely have clear alveolar spaces with no significant fluid, pus, or cells filling the airspaces. This suggests that there is no pneumonia, pulmonary edema, or similar conditions present. The lung fields appear adequately aerated and free from opacities that would indicate consolidation.\n",
      "GT: The absence of airspace consolidation on a chest X-ray suggests that there is no evidence of pneumonia or similar infiltrative lung diseases at the time of the imaging.\n",
      "--------------------------------\n",
      "gpt-4o : The presence of surgical clips and vascular markers in the thorax on a chest X-ray generally indicates a history of prior surgery or intervention. They are typically associated with:\n",
      "\n",
      "1. **Post-surgical Changes**: Clips may be left in place after surgeries such as lobectomies, cardiovascular procedures, or mediastinal tumor resections.\n",
      "   \n",
      "2. **Vascular Interventions**: Markers could indicate previous vascular surgeries or procedures, like coronary artery bypass grafting (CABG) where clips are used to secure grafts.\n",
      "\n",
      "3. **No Immediate Concern**: Unless there are signs of complications such as infection or migration, the presence of these materials usually doesn't represent a current problem.\n",
      "\n",
      "It's essential to correlate these findings with the patient's clinical history and reason for past surgeries.\n",
      "GT: The presence of surgical clips and vascular markers in the thorax on a chest X-ray is indicative of the patient having undergone previous cardiothoracic surgery, such as coronary artery bypass grafting (CABG).\n",
      "--------------------------------\n",
      "gpt-4o : The absence of pleural effusion and pulmonary edema on a chest X-ray generally indicates that the patient does not currently have fluid overload conditions often associated with heart failure or other cardiopulmonary issues. This can suggest stable cardiac function with no significant heart failure exacerbations or other acute pulmonary conditions like pneumonia or significant inflammation affecting the pleura or lung parenchyma. However, other clinical evaluations and tests may be needed to fully assess the cardiopulmonary status.\n",
      "GT: The lack of pleural effusion or pulmonary edema on a chest X-ray indicates that there is no excess fluid in the pleural spaces or lung tissue, suggesting that the patient does not have conditions such as heart failure or severe infection at the time of the image.\n",
      "--------------------------------\n",
      "gpt-4o : To suggest the presence of a calcified pulmonary nodule in the posterior right lung base on a chest X-ray, you would look for:\n",
      "\n",
      "- A round or oval opacity in the location of interest.\n",
      "- High radiographic density (whiteness), indicating calcification.\n",
      "- Sharp, well-defined borders differentiating it from surrounding tissues.\n",
      "\n",
      "These features would help identify such a nodule on the X-ray.\n",
      "GT: On the chest X-ray, one would expect to see a well-defined, round radiopaque (whiter than the surrounding lung tissue) lesion in the posterior aspect of the right lung base. This appearance is characteristic of a calcified nodule.\n",
      "--------------------------------\n",
      "gpt-4o : An enlarged right hilar lymph node on a chest X-ray might appear as increased opacity or a mass-like shadow in the right hilar region. This could cause widening of the right hilar structures or may result in partial obscuration of the right cardiac border due to the enlarged node's presence.\n",
      "GT: The presence of an enlarged right hilar lymph node might be inferred by increased opacity located at the right hilum on the chest X-ray. This could manifest as a more solid-looking area near the region where the right lung vessels and bronchi are normally visualized.\n",
      "--------------------------------\n",
      "gpt-4o : On the chest X-ray, a known right mediastinal lymph node conglomerate may present as a mass or widened mediastinum with opacity in the right paratracheal or subcarinal region. This can cause displacement or compression of adjacent structures, but specific appearance may vary depending on the size and extent of the conglomerate.\n",
      "GT: A right mediastinal lymph node conglomerate would likely appear as an area of fullness or a mass-like opacity at the right paratracheal region on the X-ray, which could alter the normal contour of the mediastinum.\n",
      "--------------------------------\n",
      "gpt-4o : In the absence of pleural effusion, pneumothorax, or focal consolidation, the lung fields on a chest X-ray would typically appear clear and well-aerated, with no abnormal opacities. The lung markings (comprising bronchi and blood vessels) should be visible, and the edges of the lungs should be crisp against the surrounding structures. There should be no evidence of fluid, air, or mass in the pleural spaces.\n",
      "GT: Without pleural effusion, pneumothorax, or focal consolidation, the lung fields would appear clear with preserved vascular markings and no areas of abnormal opacity or lucency.\n",
      "--------------------------------\n",
      "gpt-4o : Radiographic signs indicating a median sternotomy and coronary artery bypass grafting (CABG) include:\n",
      "\n",
      "1. **Sternal Wires**: Presence of metallic wires across the midline of the sternum, used to close the chest after surgery.\n",
      "\n",
      "2. **Mediastinal Clips**: Surgical clips in the region of the mediastinum, which may also be associated with graft attachment sites.\n",
      "\n",
      "3. **Graft Conduits**: Visualized vascular grafts, typically along the cardiac silhouette; may be seen in the retrosternal space.\n",
      "\n",
      "These findings are consistent with the surgical history of a patient who has undergone CABG.\n",
      "GT: Post-operative changes from median sternotomy and CABG might be visible as sternotomy wires, which appear as thin radiopaque lines across the sternum. There might also be other post-surgical changes such as changes in the soft tissues or alterations in the normal anatomy due to the surgery.\n",
      "--------------------------------\n",
      "gpt-4o : If the cardiac silhouette is normal in size on a chest X-ray, it typically means that the cardiothoracic ratio is less than 50%. The heart's outline should be well-defined and not enlarged, and it should occupy an appropriate proportion within the thoracic cavity. The heart should appear as a distinct shape without any evidence of significant bulging or enlargement.\n",
      "GT: A normal-sized cardiac silhouette on the chest X-ray would show a heart size that is within expected proportions relative to the thoracic cage, typically occupying less than half of the thoracic diameter on a PA view, and with normal contours of the cardiac borders.\n",
      "--------------------------------\n",
      "gpt-4o : In evaluating a pulmonary nodule for characteristics suggesting a non-acute condition, the following features might be considered:\n",
      "\n",
      "1. **Well-Defined Borders**: A well-circumscribed nodule typically suggests a more chronic or benign nature.\n",
      "2. **Calcification**: The presence of calcification within a nodule can indicate a granuloma, often benign.\n",
      "3. **Stability Over Time**: If a nodule has been stable on prior imaging, it suggests a less aggressive process.\n",
      "4. **Size**: Nodules less than a certain size, often under 6-8 mm, are generally considered to have a lower risk for malignancy.\n",
      "5. **Lack of Associated Symptoms**: Absence of symptoms such as hemoptysis or weight loss might suggest a non-acute condition.\n",
      "\n",
      "The absence of any of the acute indicators such as irregular edges, rapid growth, or associated lymphadenopathy would also point towards a non-acute situation.\n",
      "GT: The pulmonary nodule in the posterior right lung base is round and calcified, which is consistent with prior granulomatous disease. Its unchanged appearance from multiple previous images supports the non-acute nature of the finding.\n",
      "--------------------------------\n",
      "gpt-4o : To infer that increased opacity at the right hilum is related to an enlarged hilar lymph node, consider the following:\n",
      "\n",
      "1. **Location**: The opacity should be precisely located at the hilum, where lymph nodes are typically found.\n",
      "\n",
      "2. **Shape and Borders**: The opacity may have well-defined, lobulated borders consistent with enlarged lymph nodes.\n",
      "\n",
      "3. **Symmetry and Comparison**: Compare the hilum on both sides. Unilateral enlargement may suggest lymphadenopathy.\n",
      "\n",
      "4. **Associated Findings**: Look for other signs of lymphadenopathy, such as mediastinal widening or other lymph node enlargement.\n",
      "\n",
      "These observations in the context of clinical history and symptoms can support the diagnosis of hilar lymphadenopathy. Further imaging, such as CT, might be necessary for confirmation.\n",
      "GT: The increased opacity at the right hilum can be inferred to relate to an enlarged hilar lymph node, which is likely based on correlating findings from a CT scan.\n",
      "--------------------------------\n",
      "gpt-4o : The presence of sternal wires indicates that the patient has previously undergone cardiac surgery.\n",
      "GT: The presence of a median sternotomy and coronary artery bypass grafting (CABG) can be inferred from the intact sternotomy wires visible in the image.\n",
      "--------------------------------\n",
      "gpt-4o : The chest X-ray does not show any obvious signs of pleural effusion, pneumothorax, or focal consolidation. The lung fields appear clear and there are no visible abnormal opacities. The pleural spaces are unremarkable, and there is no sign of air under the diaphragm to suggest pneumothorax.\n",
      "GT: There is no evidence of pleural effusion, pneumothorax, or focal consolidation in the chest X-ray image.\n",
      "--------------------------------\n",
      "gpt-4o : I'm unable to compare the cardiac silhouette to previous images as you haven't provided any prior X-rays. If you share older images, I might be able to help with general observations.\n",
      "GT: The cardiac silhouette is described as normal in size and the mediastinal and hilar contours are unchanged from the preceding radiograph, indicating stability when compared to previous images.\n",
      "--------------------------------\n",
      "gpt-4o : The image shows an enlarged cardiac silhouette, which suggests cardiomegaly.\n",
      "GT: The cardiac silhouette appears enlarged.\n",
      "--------------------------------\n",
      "gpt-4o : The chest X-ray shows bilateral patchy opacities in the lung fields, which may indicate the presence of infiltrates, such as those seen with pneumonia or pulmonary edema. Further correlation with clinical findings is recommended.\n",
      "GT: The lung fields are clear and do not show evidence of large confluent consolidation.\n",
      "--------------------------------\n",
      "gpt-4o : The chest X-ray shows evidence of lung opacities, which could suggest signs of an acute infection, such as pneumonia. The extent of these findings would need to be clinically correlated. Any tubes or lines are also present and should be evaluated for proper placement. Further assessment by a medical professional is advised for an accurate diagnosis.\n",
      "GT: No definite signs of acute infection or injury are present.\n",
      "--------------------------------\n"
     ]
    }
   ],
   "execution_count": null
  }
 ],
 "metadata": {
  "colab": {
   "machine_shape": "hm",
   "provenance": [],
   "include_colab_link": true
  },
  "kernelspec": {
   "display_name": "Python 3 (ipykernel)",
   "name": "python3",
   "language": "python"
  },
  "language_info": {
   "name": "python"
  }
 },
 "nbformat": 4,
 "nbformat_minor": 0
}
