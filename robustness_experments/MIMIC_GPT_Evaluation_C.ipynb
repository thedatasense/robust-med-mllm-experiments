{
 "cells": [
  {
   "cell_type": "markdown",
   "metadata": {
    "colab_type": "text",
    "id": "view-in-github"
   },
   "source": [
    "<a href=\"https://colab.research.google.com/github/thedatasense/llm-healthcare/blob/main/MIMIC_GPT_Evaluation_C.ipynb\" target=\"_parent\"><img src=\"https://colab.research.google.com/assets/colab-badge.svg\" alt=\"Open In Colab\"/></a>"
   ]
  },
  {
   "cell_type": "code",
   "execution_count": 1,
   "metadata": {
    "ExecuteTime": {
     "end_time": "2025-03-01T18:36:24.047482Z",
     "start_time": "2025-03-01T18:36:23.378022Z"
    },
    "id": "d4b6ArvcGvFf"
   },
   "outputs": [],
   "source": [
    "import sys\n",
    "!pip install -q  sqlalchemy cockroachdb pandas psycopg2-binary matplotlib"
   ]
  },
  {
   "cell_type": "code",
   "execution_count": 2,
   "metadata": {
    "ExecuteTime": {
     "end_time": "2025-03-01T18:36:24.406791Z",
     "start_time": "2025-03-01T18:36:24.052512Z"
    },
    "colab": {
     "base_uri": "https://localhost:8080/"
    },
    "id": "RPISEELWNK4h",
    "outputId": "4cccb605-d515-4cf0-c658-76d3e1753f8c"
   },
   "outputs": [
    {
     "name": "stdout",
     "output_type": "stream",
     "text": [
      "  % Total    % Received % Xferd  Average Speed   Time    Time     Time  Current\n",
      "                                 Dload  Upload   Total   Spent    Left  Speed\n",
      "100  2728    0  2728    0     0  24355      0 --:--:-- --:--:-- --:--:-- 24576\n"
     ]
    }
   ],
   "source": [
    "!curl --create-dirs -o $HOME/.postgresql/root.crt 'https://cockroachlabs.cloud/clusters/5bbbe91d-b65e-410e-a783-597c93f501f6/cert'"
   ]
  },
  {
   "cell_type": "code",
   "execution_count": 3,
   "metadata": {
    "ExecuteTime": {
     "end_time": "2025-03-01T18:36:24.416780Z",
     "start_time": "2025-03-01T18:36:24.413635Z"
    },
    "id": "mYj_N4onKe2h"
   },
   "outputs": [],
   "source": [
    "import pandas as pd\n",
    "from IPython.display import clear_output\n",
    "from sqlalchemy.engine import create_engine\n",
    "#from datasets import load_dataset\n",
    "from openai import OpenAI\n",
    "import io\n",
    "import base64\n",
    "import random\n",
    "import requests\n",
    "import torch\n",
    "from PIL import Image\n",
    "#from transformers import AutoProcessor,Qwen2_5_VLForConditionalGeneration\n",
    "#from qwen_vl_utils import process_vision_info\n",
    "import os\n",
    "import pandas as pd\n",
    "from sqlalchemy.engine import create_engine\n",
    "#from transformers import AutoProcessor, BitsAndBytesConfig\n",
    "import json\n",
    "import yaml\n",
    "import platform"
   ]
  },
  {
   "cell_type": "code",
   "execution_count": 5,
   "metadata": {
    "ExecuteTime": {
     "end_time": "2025-03-01T18:36:24.426946Z",
     "start_time": "2025-03-01T18:36:24.423354Z"
    }
   },
   "outputs": [],
   "source": [
    "cnfig_file=\"/Users/bineshkumar/Documents/config.yaml\"\n",
    "def get_from_cnfg(key_path,file_path=cnfig_file):\n",
    "    try:\n",
    "        with open(file_path, 'r') as file:\n",
    "            data = yaml.safe_load(file)\n",
    "\n",
    "        keys = key_path.split('.')\n",
    "        value = data\n",
    "        for key in keys:\n",
    "            value = value[key]\n",
    "        return value\n",
    "\n",
    "    except FileNotFoundError:\n",
    "        print(f\"File {file_path} not found\")\n",
    "    except yaml.YAMLError as e:\n",
    "        print(f\"YAML parsing error: {e}\")\n",
    "    except KeyError:\n",
    "        print(f\"Key path {key_path} not found\")\n",
    "    except Exception as e:\n",
    "        print(f\"Error: {e}\")\n",
    "    return None\n",
    "os_name = platform.system()"
   ]
  },
  {
   "cell_type": "code",
   "execution_count": 6,
   "metadata": {
    "ExecuteTime": {
     "end_time": "2025-03-01T18:36:24.436413Z",
     "start_time": "2025-03-01T18:36:24.431481Z"
    }
   },
   "outputs": [],
   "source": [
    "if 'google.colab' in sys.modules:\n",
    "    from google.colab import drive\n",
    "    drive.mount('/content/drive')\n",
    "    from google.colab import userdata\n",
    "    engine = create_engine(userdata.get('DB_URL'))\n",
    "    gem_key=userdata.get('DB_URL')\n",
    "    oai_key=userdata.get('DB_URL')\n",
    "    source_folder='/content/drive/MyDrive/Health_Data/MIMIC_JPG_AVL/mimic-cxr-jpg/2.1.0/files/'\n",
    "elif os_name == \"Darwin\":\n",
    "    cnfig_file=\"/Users/bineshkumar/Documents/config.yaml\"\n",
    "    DB_URL = get_from_cnfg(\"cd_url\",cnfig_file)\n",
    "    gem_key=get_from_cnfg(\"gem_token\",cnfig_file)\n",
    "    oai_key=get_from_cnfg(\"oai_token\",cnfig_file)\n",
    "    source_folder='/Users/bineshkumar/Documents/mimic-cxr-jpg/2.1.0/files/'\n",
    "elif os_name == \"Linux\":\n",
    "    DB_URL = get_from_cnfg(\"cd_url\",cnfig_file)\n",
    "    gem_key=get_from_cnfg(\"gem_token\",cnfig_file)\n",
    "    oai_key=get_from_cnfg(\"oai_token\",cnfig_file)\n",
    "    source_folder=\"\"\n",
    "engine = create_engine(DB_URL)"
   ]
  },
  {
   "cell_type": "code",
   "execution_count": 7,
   "metadata": {
    "ExecuteTime": {
     "end_time": "2025-03-01T18:36:24.443975Z",
     "start_time": "2025-03-01T18:36:24.441377Z"
    },
    "id": "zftRNEw1stLO"
   },
   "outputs": [],
   "source": [
    "def insert_model_response(engine, uid,question_id,question, question_category, actual_answer, model_name, model_answer, image_link):\n",
    "    from sqlalchemy import text\n",
    "    with engine.connect() as conn:\n",
    "        trans = conn.begin()\n",
    "        try:\n",
    "            conn.execute(text(\"\"\"\n",
    "                INSERT INTO model_responses_r2\n",
    "                (uid,question_id,question, question_category, actual_answer, model_name, model_answer, image_link)\n",
    "                VALUES (:uid,:question_id,:question, :question_category, :actual_answer, :model_name, :model_answer, :image_link)\n",
    "            \"\"\"), {\n",
    "                \"uid\": uid,\n",
    "                \"question_id\": question_id,\n",
    "                \"question\": question,\n",
    "                \"question_category\": question_category,\n",
    "                \"actual_answer\": actual_answer,\n",
    "                \"model_name\": model_name,\n",
    "                \"model_answer\": model_answer,\n",
    "                \"image_link\": image_link\n",
    "            })\n",
    "            trans.commit()  # Commit the transaction\n",
    "        except Exception as e:\n",
    "            trans.rollback()\n",
    "            raise e"
   ]
  },
  {
   "cell_type": "code",
   "execution_count": 8,
   "metadata": {
    "ExecuteTime": {
     "end_time": "2025-03-01T18:36:24.450982Z",
     "start_time": "2025-03-01T18:36:24.448563Z"
    },
    "id": "I4-EulRd2Mo1"
   },
   "outputs": [],
   "source": [
    "def check_duplicate(engine,uid,question_id,question, question_category, model_name,image_link):\n",
    "    query = text(\"\"\"\n",
    "        SELECT 1 FROM model_responses_r2\n",
    "        WHERE\n",
    "        uid = :uid\n",
    "        AND question_id = :question_id and\n",
    "        question = :question\n",
    "          AND question_category = :question_category\n",
    "          AND model_name = :model_name\n",
    "          AND image_link = :image_link\n",
    "        LIMIT 1\n",
    "    \"\"\")\n",
    "    with engine.connect() as conn:\n",
    "        result = conn.execute(query, {\n",
    "            \"uid\": uid,\n",
    "            \"question_id\": question_id,\n",
    "            \"question\": question,\n",
    "            \"question_category\": question_category,\n",
    "            \"model_name\": model_name,\n",
    "            \"image_link\": image_link\n",
    "        }).fetchone()\n",
    "    return result is not None"
   ]
  },
  {
   "cell_type": "code",
   "execution_count": 9,
   "metadata": {
    "ExecuteTime": {
     "end_time": "2025-03-01T18:36:24.457703Z",
     "start_time": "2025-03-01T18:36:24.455548Z"
    },
    "id": "0FIav8OWs_6I"
   },
   "outputs": [],
   "source": [
    "def fetch_generation_data(engine):\n",
    "    import pandas as pd\n",
    "    import re\n",
    "    from sqlalchemy import text\n",
    "    from sqlalchemy.dialects.postgresql.base import PGDialect\n",
    "    def fake_get_server_version_info(self, connection):\n",
    "        version_str = connection.execute(text(\"SELECT version()\")).scalar()\n",
    "        match = re.search(r'v(\\d+)\\.(\\d+)\\.(\\d+)', version_str)\n",
    "        if match:\n",
    "            return tuple(map(int, match.groups()))\n",
    "        return (13, 0, 0)\n",
    "    PGDialect._get_server_version_info = fake_get_server_version_info\n",
    "    query = f\"SELECT id,question_id,condition as question_type, text as question,answer as ground_truth,image from mimic_all_qns; \"\n",
    "    return pd.read_sql(query, con=engine)"
   ]
  },
  {
   "cell_type": "code",
   "execution_count": 10,
   "metadata": {
    "ExecuteTime": {
     "end_time": "2025-03-01T18:36:24.465079Z",
     "start_time": "2025-03-01T18:36:24.462242Z"
    },
    "id": "3h7GpPmrwUKT"
   },
   "outputs": [],
   "source": [
    "def encode_image_stream(image_path):\n",
    "    if os.path.exists(image_path):\n",
    "        with open(image_path, \"rb\") as img_file:\n",
    "            return base64.b64encode(img_file.read()).decode(\"utf-8\")\n",
    "    else:\n",
    "        print(f\"{image_path} does not exist\")\n",
    "\n",
    "\n",
    "def generate_gpt_response(prompt_text, image_link):\n",
    "    client = OpenAI(api_key=oai_key)\n",
    "    base64_image = encode_image_stream(image_link)\n",
    "    #print(prompt_text)\n",
    "    response = client.chat.completions.create(\n",
    "        model=\"gpt-4o\",\n",
    "        messages=[\n",
    "            {\n",
    "                \"role\": \"system\",\n",
    "                \"content\": (\n",
    "                    \"You are an expert medical professional. \"\n",
    "                    \"When responding, provide a concise explanation of the image findings. \"\n",
    "                    \"For example, if asked about abnormalities, answer briefly with terms like 'atelectasis, lung opacity'.\"\n",
    "                )\n",
    "            },\n",
    "            {\n",
    "                \"role\": \"user\",\n",
    "                \"content\": [\n",
    "                    {\n",
    "                        \"type\": \"text\",\n",
    "                        \"text\": prompt_text,\n",
    "                    },\n",
    "                    {\n",
    "                        \"type\": \"image_url\",\n",
    "                        \"image_url\": {\"url\": f\"data:image/jpeg;base64,{base64_image}\"}\n",
    "                    },\n",
    "                ],\n",
    "            },\n",
    "        ],\n",
    "    )\n",
    "    return response.choices[0].message.content\n"
   ]
  },
  {
   "cell_type": "code",
   "execution_count": 11,
   "metadata": {
    "ExecuteTime": {
     "end_time": "2025-03-01T18:36:24.472242Z",
     "start_time": "2025-03-01T18:36:24.469444Z"
    },
    "id": "QonkhLqzV3Gu"
   },
   "outputs": [],
   "source": [
    "import random\n",
    "from IPython.display import Image, display\n",
    "\n",
    "def print_a_sample(df,prompt_prefix,source_folder=source_folder,width=250):\n",
    "    # Get a random row as a Series\n",
    "    row = df.sample(n=1).iloc[0]  # Add .iloc[0] to get the row as a Series\n",
    "\n",
    "    # Now these will return scalar values\n",
    "    question = row[\"question\"]\n",
    "    actual_answer = row[\"ground_truth\"]\n",
    "    image_link = source_folder + row[\"image\"]\n",
    "\n",
    "    print(f\"{question}\")\n",
    "    print(f\"GT: {actual_answer}\")\n",
    "    print(f\"Image: {image_link}\")\n",
    "\n",
    "\n",
    "    # Uncommented to display the image\n",
    "    display(Image(filename=image_link, width=width))\n",
    "    generated_answer = generate_gpt_response(prompt_prefix + \" \" + row[\"question_type\"] + \":\" + row[\"question\"] + prompt_prefix, image_link)\n",
    "    print(f\"gpt-4o : {generated_answer}\")\n",
    "    print('--------------------------------')\n"
   ]
  },
  {
   "cell_type": "code",
   "execution_count": null,
   "metadata": {
    "colab": {
     "base_uri": "https://localhost:8080/"
    },
    "id": "LY98s-3su7dL",
    "jupyter": {
     "is_executing": true
    },
    "outputId": "86871245-9dc2-4e3b-94a9-c412455c9abd"
   },
   "source": [
    "error_file_list = set()\n",
    "from sqlalchemy import text\n",
    "from IPython.display import clear_output\n",
    "model_id=\"gpt-4o\"\n",
    "import time\n",
    "for index, row in fetch_generation_data(engine).iterrows():\n",
    "    uid=row[\"id\"]\n",
    "    question_id=row[\"question_id\"]\n",
    "    question_category=row[\"question_type\"]\n",
    "    question=row[\"question\"]\n",
    "    actual_answer=row[\"ground_truth\"]\n",
    "    image_link = source_folder + row[\"image\"]\n",
    "    if check_duplicate(engine,uid,str(question_id), question, question_category, model_id,image_link):\n",
    "        print(f\"Duplicate record found for question: {question}. Skipping generation.\")\n",
    "        clear_output(wait=True)\n",
    "        continue\n",
    "    try:\n",
    "      generated_answer = generate_gpt_response( row[\"question\"], image_link)\n",
    "    except Exception as e:\n",
    "      print(f\"Error generating response for question: {question}. Error: {e}\")\n",
    "      #clear_output(wait=True)\n",
    "      continue\n",
    "    time.sleep(5)\n",
    "    print(f\"{model_id} : {generated_answer}\")\n",
    "    print(f\"GT: {actual_answer}\")\n",
    "    #insert_model_response(engine, uid,question_id,question, question_category, actual_answer, model_name, model_answer, image_link):\n",
    "    insert_model_response(engine, uid,question_id,question, question_category, actual_answer, \"gpt-4o\", generated_answer,image_link)\n",
    "    print('--------------------------------')\n"
   ],
   "outputs": [
    {
     "name": "stdout",
     "output_type": "stream",
     "text": [
      "gpt-4o : Atelectasis on a chest X-ray might present with exaggerated features such as:\n",
      "\n",
      "1. **Increased Opacity:** A significant area of increased density, often appearing as a solid white region in the lung field, indicating collapsed lung tissue.\n",
      "2. **Volume Loss:** Noticeable reduction in the size of the affected lung or lung segment, with structures moving towards the area of opacity.\n",
      "3. **Mediastinal Shift:** The heart and mediastinal structures might be shifted towards the side of the atelectasis due to the volume loss.\n",
      "4. **Diaphragmatic Elevation:** The diaphragm on the affected side may be elevated due to reduced lung volume.\n",
      "5. **Crowding of the Ribs:** Ribs over the affected area may appear closer together due to lung collapse.\n",
      "\n",
      "These exaggerated features help in identifying and diagnosing atelectasis on an X-ray.\n",
      "GT: Atelectasis would appear as areas of increased density or opacification in the lower regions of the lung, which in this case is noted at the right base of the lung. It may also cause a visible shift of the adjacent structures due to volume loss in the affected area.\n",
      "--------------------------------\n",
      "gpt-4o : In this chest X-ray, one can assert the absence of a pneumothorax by observing several key features:\n",
      "\n",
      "1. **Lung Margins**: The lung markings extend all the way to the chest wall, which indicates the lungs are expanded and there is no separation between the lung and the chest wall, as would be seen with a pneumothorax.\n",
      "\n",
      "2. **Pleural Spaces**: There is no visible line of the visceral pleura with the absence of lung markings beyond it, which is a classic sign of pneumothorax.\n",
      "\n",
      "3. **Diaphragmatic Contours**: The diaphragm appears intact with lung markings clear above it, showing that the lung is fully inflated down to its base.\n",
      "\n",
      "4. **Clinical Apparatus**: Despite the presence of medical devices, which can sometimes obscure details, the integrity of the lung markings is consistently seen across all areas of the lung fields, confirming no evidence of pneumothorax.\n",
      "\n",
      "This detailed visualization assures the viewer that both lungs are inflationally secure without any collapse, ruling out pneumothorax.\n",
      "GT: The absence of pneumothorax is suggested by the lack of visible air pockets around the lung margins and no displacement of the lung from the chest wall, indicating that the lungs are fully expanded within the thoracic cavity.\n",
      "--------------------------------\n",
      "gpt-4o : The exaggerated indications of low lung volumes in the image may include:\n",
      "\n",
      "1. **Elevated Diaphragms**: The diaphragms appear prominently elevated, indicating a reduction in lung expansion capacity.\n",
      "2. **Crowded Rib Spaces**: Significant narrowing of intercostal spaces suggests restricted chest wall expansion.\n",
      "3. **Mediastinal Shift**: The heart and mediastinum might appear slightly shifted, suggesting volume loss in a lung.\n",
      "4. **Increased Lung Opacity**: The lungs may appear denser due to reduced aeration.\n",
      "5. **Reduced Thoracic Size**: The overall size and expansion of the thoracic cavity seem diminished. \n",
      "\n",
      "These exaggerated findings contribute to the appearance of reduced lung volumes.\n",
      "GT: The chest X-ray image would show a reduction in the expected lung field size, which indicates that the lungs are not fully inflated.\n",
      "--------------------------------\n",
      "gpt-4o : This is a lateral chest X-ray showing the presence of bowel gas in the thoracic cavity, indicating a diaphragmatic hernia. The stomach or bowel loops are visible above the diaphragm, which is highly abnormal as these structures are usually confined to the abdomen. This can result from a traumatic rupture of the diaphragm or could be a congenital condition like a Bochdalek hernia. Immediate medical evaluation and treatment are crucial to address this condition.\n",
      "GT: Yes, the image would display signs of distended bowel loops, which may be visible above the diaphragm due to their air content.\n",
      "--------------------------------\n"
     ]
    }
   ]
  }
 ],
 "metadata": {
  "colab": {
   "include_colab_link": true,
   "machine_shape": "hm",
   "provenance": []
  },
  "kernelspec": {
   "display_name": "Python 3 (ipykernel)",
   "language": "python",
   "name": "python3"
  },
  "language_info": {
   "codemirror_mode": {
    "name": "ipython",
    "version": 3
   },
   "file_extension": ".py",
   "mimetype": "text/x-python",
   "name": "python",
   "nbconvert_exporter": "python",
   "pygments_lexer": "ipython3",
   "version": "3.12.2"
  }
 },
 "nbformat": 4,
 "nbformat_minor": 4
}
